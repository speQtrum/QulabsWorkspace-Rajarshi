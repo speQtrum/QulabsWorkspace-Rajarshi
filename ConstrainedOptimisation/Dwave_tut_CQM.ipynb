{
 "cells": [
  {
   "cell_type": "code",
   "execution_count": 1,
   "metadata": {},
   "outputs": [],
   "source": [
    "import numpy as np\n",
    "import matplotlib.pyplot as plt\n",
    "import pandas as pd\n",
    "import pandas_datareader as pdr\n",
    "import datetime\n",
    "import seaborn as sns"
   ]
  },
  {
   "cell_type": "code",
   "execution_count": 2,
   "metadata": {},
   "outputs": [],
   "source": [
    "import dwave\n",
    "from dwave.cloud import Client\n",
    "client = Client.from_config(config_file= '/home/rajarsi/.config/dwave/dwave.conf' )\n",
    "dwave.cloud.config.load_config(['/home/rajarsi/.config/dwave/dwave.conf'])\n",
    "import dimod\n",
    "import neal\n",
    "from dwave.system import LeapHybridCQMSampler, DWaveSampler , LeapHybridSampler, EmbeddingComposite\n",
    "import dwave.inspector\n",
    "from dimod import ExactCQMSolver, ExactDQMSolver, ExactSolver\n",
    "from dimod import BinaryQuadraticModel as BQM\n",
    "from dimod import QuadraticModel as QM\n",
    "from dimod import ConstrainedQuadraticModel as CQM\n"
   ]
  },
  {
   "cell_type": "markdown",
   "metadata": {},
   "source": [
    "### Example: Portfolio Optmisation"
   ]
  },
  {
   "cell_type": "markdown",
   "metadata": {},
   "source": [
    "In this example we will solve the Portfolio Optimisation problem using DWave annealers.\n",
    "\n",
    "The basic portfolio optimisation task requires to pick an portfolio so as to minimise the risk and maximise the expected return, encode in the hamiltoninan as ,\n",
    "$$      min_{\\vec{x}} \\sum_{ij} x_i C_{ij} x_j - \\sum_{i} E_{i} x_i\n",
    "$$\n",
    " where $C$ is the covariance matrix of the selected assets and the $E$ is the expected return of the assets"
   ]
  },
  {
   "cell_type": "markdown",
   "metadata": {},
   "source": [
    "##### Getting Stock Data"
   ]
  },
  {
   "cell_type": "code",
   "execution_count": 3,
   "metadata": {},
   "outputs": [],
   "source": [
    "def get_stock_data(stocks, start= datetime.datetime(2000,1,1) , end= datetime.datetime(2022,1,1) ) :\n",
    "    \"\"\" Return stock data and covariace matrix corresponding to it \"\"\"\n",
    "    data = pd.DataFrame()\n",
    "    for stock in stocks:\n",
    "         data[stock] = pdr.DataReader(stock,data_source='yahoo', start= start, end= end)['Adj Close']\n",
    "\n",
    "    rtrn_data = data/data.shift(1)\n",
    "    rtrn_data =  np.log(rtrn_data[1:])\n",
    "    cov_matrix = rtrn_data.cov()\n",
    "    return rtrn_data, cov_matrix"
   ]
  },
  {
   "cell_type": "code",
   "execution_count": 4,
   "metadata": {},
   "outputs": [
    {
     "data": {
      "text/plain": [
       "<AxesSubplot:>"
      ]
     },
     "execution_count": 4,
     "metadata": {},
     "output_type": "execute_result"
    },
    {
     "data": {
      "image/png": "[encoded data removed]",
      "text/plain": [
       "<Figure size 432x288 with 2 Axes>"
      ]
     },
     "metadata": {
      "needs_background": "light"
     },
     "output_type": "display_data"
    }
   ],
   "source": [
    "stocks= ['FB', 'MSFT', 'AAPL', 'IBM', 'GOOGL', 'TSLA', 'AMZN', 'JPC']\n",
    "# stocks= ['FB', 'MSFT', 'AAPL']\n",
    "data = get_stock_data(stocks)\n",
    "\n",
    "cov_matrix = data[1]\n",
    "mean_rtrn = data[0].mean()\n",
    "for stock in stocks : cov_matrix[stock][stock] = 0\n",
    "sns.heatmap(cov_matrix)"
   ]
  },
  {
   "cell_type": "markdown",
   "metadata": {},
   "source": [
    "##### Setting up BQM"
   ]
  },
  {
   "cell_type": "markdown",
   "metadata": {},
   "source": [
    "First we try to solve the problem using a BinaryQuadraticModel i.e the stock variables are binary $ x_i \\in \\{0,1\\}$\n",
    "\n"
   ]
  },
  {
   "cell_type": "code",
   "execution_count": 5,
   "metadata": {},
   "outputs": [],
   "source": [
    "bqm = BQM('BINARY')\n",
    "for stock in stocks : bqm.add_variable(stock)\n",
    "\n",
    "## prepare quadratic model corresponding to portfolio \n",
    "for stock in stocks: bqm.add_linear_from({stock: -1*mean_rtrn[stock]})\n",
    "for stock_i in stocks :\n",
    "    for stock_j in stocks : \n",
    "        if stock_i != stock_j: bqm.add_quadratic_from({(stock_i, stock_j): +1*cov_matrix[stock_i][stock_j] })\n",
    "        \n",
    "# bqm"
   ]
  },
  {
   "cell_type": "markdown",
   "metadata": {},
   "source": [
    "We can directly solve the pprobelm using simulated annealing from ```neal.SimulatedAnnealingSampler```. "
   ]
  },
  {
   "cell_type": "code",
   "execution_count": 6,
   "metadata": {},
   "outputs": [
    {
     "data": {
      "text/plain": [
       "<bound method SampleSet.data of SampleSet(rec.array([([1, 0, 0, 0, 0, 0, 1, 1], -0.00727147, 1),\n",
       "           ([1, 0, 0, 0, 0, 0, 1, 1], -0.00727147, 1),\n",
       "           ([1, 0, 0, 0, 0, 0, 1, 1], -0.00727147, 1),\n",
       "           ([1, 0, 0, 0, 0, 0, 1, 1], -0.00727147, 1),\n",
       "           ([1, 0, 0, 0, 0, 0, 1, 1], -0.00727147, 1),\n",
       "           ([1, 0, 0, 0, 0, 0, 1, 1], -0.00727147, 1),\n",
       "           ([1, 0, 0, 0, 0, 0, 1, 1], -0.00727147, 1),\n",
       "           ([1, 0, 0, 0, 0, 0, 1, 1], -0.00727147, 1),\n",
       "           ([1, 0, 0, 0, 0, 0, 1, 1], -0.00727147, 1),\n",
       "           ([1, 0, 0, 0, 0, 0, 1, 1], -0.00727147, 1)],\n",
       "          dtype=[('sample', 'i1', (8,)), ('energy', '<f8'), ('num_occurrences', '<i8')]), Variables(['AAPL', 'AMZN', 'FB', 'GOOGL', 'IBM', 'JPC', 'MSFT', 'TSLA']), {'beta_range': [284.9817687151987, 2794435.6397523256], 'beta_schedule_type': 'geometric'}, 'BINARY')>"
      ]
     },
     "execution_count": 6,
     "metadata": {},
     "output_type": "execute_result"
    }
   ],
   "source": [
    "##### Simulated Annealing solver\n",
    "sampler = neal.SimulatedAnnealingSampler()\n",
    "# sampler.properties, sampler.parameters\n",
    "pf_op = sampler.sample(bqm, num_sweeps= 100, num_sweeps_per_beta= 50, num_reads= 10 ,beta_schedule= 'geometric' ,seed= 1234)\n",
    "## most optimal solution \n",
    "pf_op.data\n"
   ]
  },
  {
   "cell_type": "markdown",
   "metadata": {},
   "source": [
    "##### Setting up BQM with constraints (lagrange multiplier method)"
   ]
  },
  {
   "cell_type": "markdown",
   "metadata": {},
   "source": [
    "Here we can also introduce inequality/equality constraints to our BQM. Here we introduce a  constraint such that the number of stocks selected is less than 4 i.e $ \\sum_{i} x_i <= 4 $. Here the constraints are encoded into the obejctive function directly as a penalty by as $C_{obj}' = C_{obj} + \\lambda (\\sum_{i}x_i - 4 )^2 $,\n",
    "scaled by an appropriate multiplier $\\lambda$"
   ]
  },
  {
   "cell_type": "code",
   "execution_count": 7,
   "metadata": {},
   "outputs": [
    {
     "data": {
      "text/plain": [
       "[('slack_sum_0', 1), ('slack_sum_1', 2), ('slack_sum_2', 1)]"
      ]
     },
     "execution_count": 7,
     "metadata": {},
     "output_type": "execute_result"
    }
   ],
   "source": [
    "bqm_vars = [dimod.Binary(var) for  var in bqm.variables]\n",
    "constraint_sum = [(var, 1 ) for var in bqm.variables ] \n",
    "# constraint_min_rtnr = [(var, mean_rtrn[var]) for var in bqm.variables  ]\n",
    "\n",
    "bqm.add_linear_inequality_constraint( constraint_sum, lagrange_multiplier= 10,  lb= 0, ub= 4, label= 'sum')\n",
    "# bqm.add_linear_inequality_constraint( constraint_min_rtnr, lagrange_multiplier= 10,  lb= 0, ub= 5, label= 'sum')"
   ]
  },
  {
   "cell_type": "code",
   "execution_count": 11,
   "metadata": {},
   "outputs": [
    {
     "data": {
      "text/plain": [
       "SampleSet(rec.array([([0, 0, 0, 0, 0, 0, 0, 0, 0, 0, 0], 160.        , 1),\n",
       "           ([0, 0, 1, 0, 0, 0, 0, 0, 0, 0, 0],  90.0027561 , 1),\n",
       "           ([0, 0, 1, 0, 0, 0, 1, 0, 0, 0, 0],  40.00150099, 1), ...,\n",
       "           ([0, 0, 1, 0, 0, 0, 1, 0, 0, 0, 1],  10.00150099, 1),\n",
       "           ([0, 0, 1, 0, 0, 0, 0, 0, 0, 0, 1],  40.0027561 , 1),\n",
       "           ([0, 0, 0, 0, 0, 0, 0, 0, 0, 0, 1],  90.        , 1)],\n",
       "          dtype=[('sample', 'i1', (11,)), ('energy', '<f8'), ('num_occurrences', '<i8')]), Variables(['AAPL', 'AMZN', 'FB', 'GOOGL', 'IBM', 'JPC', 'MSFT', 'TSLA', 'slack_sum_0', 'slack_sum_1', 'slack_sum_2']), {}, 'BINARY')"
      ]
     },
     "execution_count": 11,
     "metadata": {},
     "output_type": "execute_result"
    }
   ],
   "source": [
    "sample_set_bqm = ExactSolver().sample(bqm)\n",
    "sample_set_bqm"
   ]
  },
  {
   "cell_type": "markdown",
   "metadata": {},
   "source": [
    "Note that the smaple-set obtained from the ```ExactSolver``` for the constrained BQM is not very good plus we have to tune the lagrange multipliers manually !"
   ]
  },
  {
   "cell_type": "markdown",
   "metadata": {},
   "source": [
    "##### Setting up CQM"
   ]
  },
  {
   "cell_type": "markdown",
   "metadata": {},
   "source": [
    "Here we use the ```ConstrainedQuadraticModel``` class of ```dimod``` to solve the same problem, here we have the advantage that the constrained are handled directly instead of being put into the objective function as a penlaty directly, which gives significant improvment in performance than the ```BinaryQuadraticModel```."
   ]
  },
  {
   "cell_type": "code",
   "execution_count": 19,
   "metadata": {},
   "outputs": [
    {
     "data": {
      "text/plain": [
       "'min return constraint'"
      ]
     },
     "execution_count": 19,
     "metadata": {},
     "output_type": "execute_result"
    }
   ],
   "source": [
    "# dimod.REAL_INTERACTIONS = True\n",
    "qm = QM()\n",
    "for stock in stocks : qm.add_variable('BINARY',stock)\n",
    "\n",
    "## prepare quadratic model corresponding to portfolio \n",
    "for stock in stocks: qm.add_linear_from({stock: -1*mean_rtrn[stock]})\n",
    "for stock_i in stocks :\n",
    "    for stock_j in stocks : \n",
    "        if stock_i != stock_j: qm.add_quadratic_from({(stock_i, stock_j): +1*cov_matrix[stock_i][stock_j] })\n",
    "    \n",
    "##### Setting up CQM from QM\n",
    "\n",
    "cqm = CQM.from_qm(qm)\n",
    "\n",
    "## add constriants to the model \n",
    "\n",
    "vars = cqm.variables\n",
    "vars =  [dimod.Binary(var) for var in vars ]\n",
    "\n",
    "cqm.add_constraint( sum(vars) <= len(vars) - 2, label= 'max stock constraint')\n",
    "\n",
    "rtrns = []\n",
    "for stock in range(len(vars)) :\n",
    "    rtrns.append(mean_rtrn[stock]*vars[stock])\n",
    "rtrn = sum(rtrns)\n",
    "cqm.add_constraint( rtrn  >= 0, label= 'min return constraint' )"
   ]
  },
  {
   "cell_type": "markdown",
   "metadata": {},
   "source": [
    "##### Using ExactSolver "
   ]
  },
  {
   "cell_type": "markdown",
   "metadata": {},
   "source": [
    "As before we first solve the problem using exact samplers, whihc for this case is ```ExactCQMSolver```."
   ]
  },
  {
   "cell_type": "code",
   "execution_count": 20,
   "metadata": {},
   "outputs": [],
   "source": [
    "pf_sample_set = ExactCQMSolver().sample_cqm(cqm)"
   ]
  },
  {
   "cell_type": "code",
   "execution_count": 21,
   "metadata": {},
   "outputs": [
    {
     "data": {
      "text/plain": [
       "Sample(sample={'AAPL': 1, 'AMZN': 0, 'FB': 0, 'GOOGL': 1, 'IBM': 1, 'JPC': 0, 'MSFT': 1, 'TSLA': 1}, energy=-0.0069584300834686814, num_occurrences=1, is_satisfied=array([ True,  True]), is_feasible=True)"
      ]
     },
     "execution_count": 21,
     "metadata": {},
     "output_type": "execute_result"
    }
   ],
   "source": [
    "pf_sample_set.data"
   ]
  },
  {
   "cell_type": "markdown",
   "metadata": {},
   "source": [
    "##### Using 'INTEGER' variable type "
   ]
  },
  {
   "cell_type": "markdown",
   "metadata": {},
   "source": [
    "Next we reformulate the same model but using integer variables instead of binary variables as done in the previuos cases."
   ]
  },
  {
   "cell_type": "code",
   "execution_count": 32,
   "metadata": {},
   "outputs": [
    {
     "data": {
      "text/plain": [
       "'min return constraint'"
      ]
     },
     "execution_count": 32,
     "metadata": {},
     "output_type": "execute_result"
    }
   ],
   "source": [
    "qm_int = QM()\n",
    "for stock in stocks : qm_int.add_variable('INTEGER',stock, upper_bound = 5)\n",
    "\n",
    "## prepare quadratic model corresponding to portfolio \n",
    "for stock in stocks: qm_int.add_linear_from({stock: -1*mean_rtrn[stock]})\n",
    "for stock_i in stocks :\n",
    "    for stock_j in stocks : \n",
    "        if stock_i != stock_j: qm_int.add_quadratic_from({(stock_i, stock_j): +1*cov_matrix[stock_i][stock_j] })\n",
    "\n",
    "cqm_int = CQM.from_qm(qm_int)\n",
    "# cqm_int.objective\n",
    "vars = cqm_int.variables\n",
    "vars =  [dimod.Integer(var, upper_bound = 5) for var in vars ] ## the upper-bound bounds the variable \n",
    "\n",
    "## add constraints\n",
    "cqm_int.add_constraint( sum(vars) <= 20 , label= 'max stock constraint')\n",
    "\n",
    "rtrns = []\n",
    "for stock in range(len(vars)) :\n",
    "    rtrns.append(mean_rtrn[stock]*vars[stock])\n",
    "rtrn = sum(rtrns)\n",
    "cqm_int.add_constraint( rtrn  >= 0.0001 , label= 'min return constraint' )        \n"
   ]
  },
  {
   "cell_type": "code",
   "execution_count": 33,
   "metadata": {},
   "outputs": [],
   "source": [
    "pf_sample_set_int = ExactCQMSolver().sample_cqm(cqm_int)"
   ]
  },
  {
   "cell_type": "code",
   "execution_count": 39,
   "metadata": {},
   "outputs": [
    {
     "data": {
      "text/plain": [
       "(SampleSet(rec.array([([0, 0, 0, 0, 0, 0, 0, 0],  0.        , 1, [ True, False], False),\n",
       "            ([0, 0, 0, 0, 0, 0, 1, 0], -0.00155113, 1, [ True,  True],  True),\n",
       "            ([0, 0, 0, 0, 0, 0, 2, 0], -0.00310226, 1, [ True,  True],  True),\n",
       "            ...,\n",
       "            ([5, 5, 5, 5, 5, 5, 3, 5],  0.05776215, 1, [False,  True], False),\n",
       "            ([5, 5, 5, 5, 5, 5, 4, 5],  0.06179816, 1, [False,  True], False),\n",
       "            ([5, 5, 5, 5, 5, 5, 5, 5],  0.06583416, 1, [False,  True], False)],\n",
       "           dtype=[('sample', '<i8', (8,)), ('energy', '<f8'), ('num_occurrences', '<i8'), ('is_satisfied', '?', (2,)), ('is_feasible', '?')]), Variables(['AAPL', 'AMZN', 'FB', 'GOOGL', 'IBM', 'JPC', 'MSFT', 'TSLA']), {'constraint_labels': ['max stock constraint', 'min return constraint']}, 'INTEGER'),\n",
       " Sample(sample={'AAPL': 5, 'AMZN': 0, 'FB': 0, 'GOOGL': 0, 'IBM': 0, 'JPC': 0, 'MSFT': 0, 'TSLA': 5}, energy=-0.021386527531152937, num_occurrences=1, is_satisfied=array([ True,  True]), is_feasible=True))"
      ]
     },
     "execution_count": 39,
     "metadata": {},
     "output_type": "execute_result"
    }
   ],
   "source": [
    "pf_sample_set_int"
   ]
  },
  {
   "cell_type": "code",
   "execution_count": 40,
   "metadata": {},
   "outputs": [
    {
     "data": {
      "text/plain": [
       "Sample(sample={'AAPL': 5, 'AMZN': 0, 'FB': 0, 'GOOGL': 0, 'IBM': 0, 'JPC': 0, 'MSFT': 0, 'TSLA': 5}, energy=-0.021386527531152937, num_occurrences=1, is_satisfied=array([ True,  True]), is_feasible=True)"
      ]
     },
     "execution_count": 40,
     "metadata": {},
     "output_type": "execute_result"
    }
   ],
   "source": [
    "pf_sample_set_int.first"
   ]
  },
  {
   "cell_type": "markdown",
   "metadata": {},
   "source": [
    "##### Using Leap's sampler"
   ]
  },
  {
   "cell_type": "markdown",
   "metadata": {},
   "source": [
    "Here we use DWave's cloud based hybrid solver to sample the solutions !"
   ]
  },
  {
   "cell_type": "code",
   "execution_count": 37,
   "metadata": {},
   "outputs": [
    {
     "data": {
      "text/plain": [
       "SampleSet(rec.array([([1., 0., 0., 1., 1., 0., 1., 1.], -0.00695843, 1,  True, [ True,  True]),\n",
       "           ([1., 0., 0., 1., 1., 0., 1., 1.], -0.00695843, 1,  True, [ True,  True]),\n",
       "           ([1., 0., 0., 1., 1., 0., 1., 1.], -0.00695843, 1,  True, [ True,  True]),\n",
       "           ([1., 0., 0., 1., 1., 0., 1., 1.], -0.00695843, 1,  True, [ True,  True]),\n",
       "           ([1., 0., 0., 1., 1., 0., 1., 1.], -0.00695843, 1,  True, [ True,  True]),\n",
       "           ([1., 0., 0., 1., 1., 0., 1., 1.], -0.00695843, 1,  True, [ True,  True]),\n",
       "           ([1., 0., 0., 1., 1., 0., 1., 1.], -0.00695843, 1,  True, [ True,  True]),\n",
       "           ([1., 0., 0., 1., 1., 0., 1., 1.], -0.00695843, 1,  True, [ True,  True]),\n",
       "           ([1., 0., 0., 1., 1., 0., 1., 1.], -0.00695843, 1,  True, [ True,  True]),\n",
       "           ([1., 0., 0., 1., 1., 0., 1., 1.], -0.00695843, 1,  True, [ True,  True]),\n",
       "           ([1., 0., 0., 1., 1., 0., 1., 1.], -0.00695843, 1,  True, [ True,  True]),\n",
       "           ([1., 0., 0., 1., 1., 0., 1., 1.], -0.00695843, 1,  True, [ True,  True]),\n",
       "           ([1., 0., 0., 1., 1., 0., 1., 1.], -0.00695843, 1,  True, [ True,  True]),\n",
       "           ([1., 0., 0., 1., 1., 0., 1., 1.], -0.00695843, 1,  True, [ True,  True]),\n",
       "           ([1., 0., 0., 1., 1., 0., 1., 1.], -0.00695843, 1,  True, [ True,  True]),\n",
       "           ([1., 0., 0., 1., 1., 0., 1., 1.], -0.00695843, 1,  True, [ True,  True]),\n",
       "           ([1., 0., 0., 1., 1., 0., 1., 1.], -0.00695843, 1,  True, [ True,  True]),\n",
       "           ([1., 0., 0., 1., 1., 0., 1., 1.], -0.00695843, 1,  True, [ True,  True]),\n",
       "           ([1., 0., 0., 1., 1., 0., 1., 1.], -0.00695843, 1,  True, [ True,  True]),\n",
       "           ([1., 0., 0., 1., 1., 0., 1., 1.], -0.00695843, 1,  True, [ True,  True]),\n",
       "           ([1., 0., 0., 1., 1., 0., 1., 1.], -0.00695843, 1,  True, [ True,  True]),\n",
       "           ([1., 0., 0., 1., 1., 0., 1., 1.], -0.00695843, 1,  True, [ True,  True]),\n",
       "           ([1., 0., 0., 1., 1., 0., 1., 1.], -0.00695843, 1,  True, [ True,  True]),\n",
       "           ([1., 0., 0., 1., 1., 0., 1., 1.], -0.00695843, 1,  True, [ True,  True]),\n",
       "           ([1., 0., 0., 1., 1., 0., 1., 1.], -0.00695843, 1,  True, [ True,  True]),\n",
       "           ([1., 0., 0., 1., 1., 0., 1., 1.], -0.00695843, 1,  True, [ True,  True]),\n",
       "           ([1., 0., 0., 1., 1., 0., 1., 1.], -0.00695843, 1,  True, [ True,  True]),\n",
       "           ([1., 0., 0., 1., 1., 0., 1., 1.], -0.00695843, 1,  True, [ True,  True]),\n",
       "           ([1., 0., 0., 1., 1., 0., 1., 1.], -0.00695843, 1,  True, [ True,  True]),\n",
       "           ([1., 0., 0., 1., 1., 0., 1., 1.], -0.00695843, 1,  True, [ True,  True]),\n",
       "           ([1., 0., 0., 1., 1., 0., 1., 1.], -0.00695843, 1,  True, [ True,  True]),\n",
       "           ([1., 0., 0., 1., 1., 0., 1., 1.], -0.00695843, 1,  True, [ True,  True]),\n",
       "           ([0., 0., 1., 1., 0., 0., 0., 1.], -0.00087946, 1,  True, [ True,  True])],\n",
       "          dtype=[('sample', '<f8', (8,)), ('energy', '<f8'), ('num_occurrences', '<i4'), ('is_feasible', '?'), ('is_satisfied', '?', (2,))]), Variables(['AAPL', 'AMZN', 'FB', 'GOOGL', 'IBM', 'JPC', 'MSFT', 'TSLA']), {'constraint_labels': ['min return constraint', 'max stock constraint'], 'qpu_access_time': 15211, 'charge_time': 3670833, 'run_time': 3670833, 'problem_id': '990c82b6-2386-4f07-868c-30c8758c0a50'}, 'INTEGER')"
      ]
     },
     "execution_count": 37,
     "metadata": {},
     "output_type": "execute_result"
    }
   ],
   "source": [
    "sampler_cqm = LeapHybridCQMSampler()\n",
    "sample_set_leap = sampler_cqm.sample_cqm(cqm)\n",
    "sample_set_leap"
   ]
  },
  {
   "cell_type": "code",
   "execution_count": 41,
   "metadata": {},
   "outputs": [
    {
     "data": {
      "text/plain": [
       "Sample(sample={'AAPL': 1.0, 'AMZN': 0.0, 'FB': 0.0, 'GOOGL': 1.0, 'IBM': 1.0, 'JPC': 0.0, 'MSFT': 1.0, 'TSLA': 1.0}, energy=-0.006958430083468694, num_occurrences=1, is_feasible=True, is_satisfied=array([ True,  True]))"
      ]
     },
     "execution_count": 41,
     "metadata": {},
     "output_type": "execute_result"
    }
   ],
   "source": [
    "sample_set_leap.first"
   ]
  },
  {
   "cell_type": "markdown",
   "metadata": {},
   "source": [
    "The solutions obtained from the Hybrid Sampler is much better than the exact solver as it obtians lower ground state energies."
   ]
  },
  {
   "cell_type": "markdown",
   "metadata": {},
   "source": [
    "##### Using 'REAL' vartype in CQM"
   ]
  },
  {
   "cell_type": "markdown",
   "metadata": {},
   "source": [
    "REAL type variables do not support interactions , only linear terms should be used in objective and constraints"
   ]
  },
  {
   "cell_type": "markdown",
   "metadata": {},
   "source": [
    "### Example: Independet Set Problem"
   ]
  },
  {
   "cell_type": "markdown",
   "metadata": {},
   "source": [
    "Here we solve the Maximum Independent Set problem. The aim is to select the largest set of vertices in a given graph such that none of the selected vertices are adjacent to each other.  "
   ]
  },
  {
   "cell_type": "markdown",
   "metadata": {},
   "source": [
    "The objective function in this case is \n",
    "$$      \\mathbf{C}(\\mathbf{x}) =  \\sum_{i \\in nodes } - x_i\n",
    "$$ which is simply the number of nodes selected.\n",
    "\n",
    "However we also need to care about the constraint on adjacency,\n",
    "$$      \\sum_{(i,j) \\in edges} x_i x_j  = 0\n",
    "$$"
   ]
  },
  {
   "cell_type": "code",
   "execution_count": 42,
   "metadata": {},
   "outputs": [
    {
     "data": {
      "image/png": "[encoded data removed]",
      "text/plain": [
       "<Figure size 432x288 with 1 Axes>"
      ]
     },
     "metadata": {},
     "output_type": "display_data"
    }
   ],
   "source": [
    "## initiate random graph~\n",
    "import networkx as nx\n",
    "from networkx import erdos_renyi_graph\n",
    "\n",
    "nodes = 10\n",
    "p = 0.5\n",
    "\n",
    "rnd_graph = erdos_renyi_graph(nodes, p, seed= 1904892)\n",
    "nx.draw(rnd_graph, with_labels= True, alpha= 0.8, node_size= 500)"
   ]
  },
  {
   "cell_type": "markdown",
   "metadata": {},
   "source": [
    "Formulate a CQM for this problem"
   ]
  },
  {
   "cell_type": "code",
   "execution_count": 48,
   "metadata": {},
   "outputs": [
    {
     "data": {
      "text/plain": [
       "'edge sum constraint'"
      ]
     },
     "execution_count": 48,
     "metadata": {},
     "output_type": "execute_result"
    }
   ],
   "source": [
    "## create quadratic model form graph\n",
    "graph_qm = QM()\n",
    "for node in rnd_graph.nodes : graph_qm.add_variable('BINARY', str(node) )\n",
    "for var in graph_qm.variables : graph_qm.add_linear_from({var: -1})     ## add the objective function\n",
    "\n",
    "graph_cqm = CQM.from_qm(graph_qm)\n",
    "graph_vars = [dimod.Binary(var) for var in graph_cqm.variables]\n",
    "\n",
    "edge_sum = []\n",
    "for edge in list(rnd_graph.edges):\n",
    "    edge_sum.append(graph_vars[edge[0]]*graph_vars[edge[1]])\n",
    "edge_sum = sum(edge_sum)\n",
    "\n",
    "graph_cqm.add_constraint(edge_sum == 0, label= 'edge sum constraint')   ## add constraint on the edges\n"
   ]
  },
  {
   "cell_type": "markdown",
   "metadata": {},
   "source": [
    "As before we solve the problem using both the ```ExactCQMSolver``` as well as the ```LeapHybridCQMSolver``` ."
   ]
  },
  {
   "cell_type": "code",
   "execution_count": 44,
   "metadata": {},
   "outputs": [],
   "source": [
    "graph_sample_set = ExactCQMSolver().sample_cqm(graph_cqm)\n",
    "df = graph_sample_set.to_pandas_dataframe()\n",
    "df.sort_values(by=['energy'])\n",
    "df = df.loc[df['is_satisfied']== True]\n",
    "config = {}\n",
    "for node in graph_cqm.variables :\n",
    "     config[int(node)] = df.iloc[[-1]][node].to_numpy()[0]\n",
    "nx.set_node_attributes(rnd_graph, name= 'color', values = config)"
   ]
  },
  {
   "cell_type": "code",
   "execution_count": 45,
   "metadata": {},
   "outputs": [
    {
     "data": {
      "image/png": "[encoded data removed]",
      "text/plain": [
       "<Figure size 720x504 with 1 Axes>"
      ]
     },
     "metadata": {},
     "output_type": "display_data"
    }
   ],
   "source": [
    "red = [node for node in rnd_graph.nodes() if rnd_graph.nodes()[node]['color'] == 1  ]\n",
    "blue = [node for node in rnd_graph.nodes() if rnd_graph.nodes()[node]['color'] == 0  ]\n",
    "\n",
    "plt.figure(figsize= (10,7))\n",
    "pos = nx.spring_layout(rnd_graph)\n",
    "nx.draw_networkx_nodes(rnd_graph,pos, nodelist= red, node_color= \"tab:red\",  alpha= 0.8, node_size= 500)\n",
    "nx.draw_networkx_nodes(rnd_graph,pos, nodelist= blue, node_color= \"tab:blue\", alpha= 0.8, node_size= 500)\n",
    "nx.draw_networkx_edges(rnd_graph,pos, width=1.0, alpha=0.5)\n",
    "nx.draw_networkx_labels(rnd_graph, pos, config)\n",
    "plt.show()"
   ]
  },
  {
   "cell_type": "code",
   "execution_count": 46,
   "metadata": {},
   "outputs": [],
   "source": [
    "graph_sample_set = LeapHybridCQMSampler().sample_cqm(graph_cqm)\n",
    "df = graph_sample_set.to_pandas_dataframe()\n",
    "df.sort_values(by=['energy'])\n",
    "df = df.loc[df['is_satisfied']== True]\n",
    "config = {}\n",
    "for node in graph_cqm.variables :\n",
    "     config[int(node)] = df.iloc[[-1]][node].to_numpy()[0]\n",
    "nx.set_node_attributes(rnd_graph, name= 'color', values = config)\n"
   ]
  },
  {
   "cell_type": "code",
   "execution_count": 47,
   "metadata": {},
   "outputs": [
    {
     "data": {
      "image/png": "[encoded data removed]",
      "text/plain": [
       "<Figure size 720x504 with 1 Axes>"
      ]
     },
     "metadata": {},
     "output_type": "display_data"
    }
   ],
   "source": [
    "red = [node for node in rnd_graph.nodes() if rnd_graph.nodes()[node]['color'] == 1  ]\n",
    "blue = [node for node in rnd_graph.nodes() if rnd_graph.nodes()[node]['color'] == 0  ]\n",
    "\n",
    "plt.figure(figsize= (10,7))\n",
    "pos = nx.spring_layout(rnd_graph)\n",
    "nx.draw_networkx_nodes(rnd_graph,pos, nodelist= red, node_color= \"tab:red\",  alpha= 0.8, node_size= 500)\n",
    "nx.draw_networkx_nodes(rnd_graph,pos, nodelist= blue, node_color= \"tab:blue\", alpha= 0.8, node_size= 500)\n",
    "nx.draw_networkx_edges(rnd_graph,pos, width=1.0, alpha=0.5)\n",
    "nx.draw_networkx_labels(rnd_graph, pos, config)\n",
    "plt.show()"
   ]
  },
  {
   "cell_type": "markdown",
   "metadata": {},
   "source": [
    "Note that the solution from the ```LeapHybridCQMSampler``` is better compared to the solution from the ```ExactCQMSolver``` in that a higher no. of nodes has been included in the set !"
   ]
  },
  {
   "cell_type": "markdown",
   "metadata": {},
   "source": [
    "### Example: Graph Coloring"
   ]
  },
  {
   "cell_type": "markdown",
   "metadata": {},
   "source": [
    "### Example: Constrained Scheduling\n",
    "Here our aim is to form a schedule such that the following constraints are :\n",
    "\n",
    "Constraint 1: During business hours, all meetings must be attended in person at the office.\n",
    "\n",
    "Constraint 2: During business hours, participation in meetings is mandatory.\n",
    "\n",
    "Constraint 3: Outside business hours, meetings must be teleconferenced.\n",
    "\n",
    "Constraint 4: Outside business hours, meetings must not exceed 30 minutes.\n",
    "\n",
    "The aim is to use ```ConstrainedQuadraticModel``` to find all feasible solutions, such that the follwoing constraints are satisfied.\n",
    "\n",
    "\n",
    "###### ref. https://docs.ocean.dwavesys.com/en/stable/examples/scheduling.html for more details\n"
   ]
  },
  {
   "cell_type": "markdown",
   "metadata": {},
   "source": [
    "The varialbles required are $ t, v, l, p $ respectively for representing time, venue, duration and type of participation, it is clear that except for the duration $l$ , other verialbes can only take binary values. "
   ]
  },
  {
   "cell_type": "code",
   "execution_count": 71,
   "metadata": {},
   "outputs": [],
   "source": [
    "cqm_scheduling = CQM()"
   ]
  },
  {
   "cell_type": "code",
   "execution_count": 72,
   "metadata": {},
   "outputs": [],
   "source": [
    "## setup the variables\n",
    "t = dimod.Binary('t')\n",
    "v = dimod.Binary('v')\n",
    "p = dimod.Binary('p')\n",
    "l = dimod.Integer('l', upper_bound= 20 )\n",
    "vars = [t, v, p , l]\n"
   ]
  },
  {
   "cell_type": "code",
   "execution_count": 73,
   "metadata": {},
   "outputs": [
    {
     "data": {
      "text/plain": [
       "'constrain 4'"
      ]
     },
     "execution_count": 73,
     "metadata": {},
     "output_type": "execute_result"
    }
   ],
   "source": [
    "## setup the constraints for CQM\n",
    "#1\n",
    "cqm_scheduling.add_constraint( t - t*v == 0, label= 'constraint 1' )\n",
    "#2\n",
    "cqm_scheduling.add_constraint( t - t*p == 0, label= 'constraint 2' )\n",
    "#3\n",
    "cqm_scheduling.add_constraint( v - t*v == 0, label= 'constraint 3'  )\n",
    "#4\n",
    "cqm_scheduling.add_constraint( t*l - t - l <= 10, label= 'constrain 4' )\n",
    "##\n",
    "# cqm_scheduling.set_objective( 0*t ) ## we do not have an objective function in this case, we would just need to msample such that the constraints are satisfied !"
   ]
  },
  {
   "cell_type": "code",
   "execution_count": 74,
   "metadata": {},
   "outputs": [
    {
     "data": {
      "text/plain": [
       "{'constraint 1': Eq(BinaryQuadraticModel({'t': 1.0, 'v': -0.0}, {('v', 't'): -1.0}, -0.0, 'BINARY'), 0),\n",
       " 'constraint 2': Eq(BinaryQuadraticModel({'t': 1.0, 'p': -0.0}, {('p', 't'): -1.0}, -0.0, 'BINARY'), 0),\n",
       " 'constraint 3': Eq(BinaryQuadraticModel({'v': 1.0, 't': -0.0}, {('t', 'v'): -1.0}, -0.0, 'BINARY'), 0),\n",
       " 'constrain 4': Le(QuadraticModel({'t': -1.0, 'l': -1.0}, {('l', 't'): 1.0}, -0.0, {'t': 'BINARY', 'l': 'INTEGER'}, dtype='float64'), 10)}"
      ]
     },
     "execution_count": 74,
     "metadata": {},
     "output_type": "execute_result"
    }
   ],
   "source": [
    "# cqm_scheduling.variables,\n",
    "cqm_scheduling.constraints"
   ]
  },
  {
   "cell_type": "code",
   "execution_count": 87,
   "metadata": {},
   "outputs": [
    {
     "data": {
      "text/plain": [
       "SampleSet(rec.array([([ 0,  0,  0,  0], 0., 1, [ True,  True,  True,  True],  True),\n",
       "           ([ 0,  1,  0,  0], 0., 1, [ True,  True,  True,  True],  True),\n",
       "           ([ 0,  1,  1,  1], 0., 1, [ True,  True,  True,  True],  True),\n",
       "           ([ 1,  0,  0,  0], 0., 1, [ True,  True,  True,  True],  True),\n",
       "           ([ 1,  1,  0,  0], 0., 1, [ True,  True,  True,  True],  True),\n",
       "           ([ 1,  1,  1,  1], 0., 1, [ True,  True,  True,  True],  True),\n",
       "           ([ 2,  0,  0,  0], 0., 1, [ True,  True,  True,  True],  True),\n",
       "           ([ 2,  1,  0,  0], 0., 1, [ True,  True,  True,  True],  True),\n",
       "           ([ 2,  1,  1,  1], 0., 1, [ True,  True,  True,  True],  True),\n",
       "           ([ 3,  0,  0,  0], 0., 1, [ True,  True,  True,  True],  True),\n",
       "           ([ 3,  1,  0,  0], 0., 1, [ True,  True,  True,  True],  True),\n",
       "           ([ 3,  1,  1,  1], 0., 1, [ True,  True,  True,  True],  True),\n",
       "           ([ 4,  0,  0,  0], 0., 1, [ True,  True,  True,  True],  True),\n",
       "           ([ 4,  1,  0,  0], 0., 1, [ True,  True,  True,  True],  True),\n",
       "           ([ 4,  1,  1,  1], 0., 1, [ True,  True,  True,  True],  True),\n",
       "           ([ 5,  0,  0,  0], 0., 1, [ True,  True,  True,  True],  True),\n",
       "           ([ 5,  1,  0,  0], 0., 1, [ True,  True,  True,  True],  True),\n",
       "           ([ 5,  1,  1,  1], 0., 1, [ True,  True,  True,  True],  True),\n",
       "           ([ 6,  0,  0,  0], 0., 1, [ True,  True,  True,  True],  True),\n",
       "           ([ 6,  1,  0,  0], 0., 1, [ True,  True,  True,  True],  True),\n",
       "           ([ 6,  1,  1,  1], 0., 1, [ True,  True,  True,  True],  True),\n",
       "           ([ 7,  0,  0,  0], 0., 1, [ True,  True,  True,  True],  True),\n",
       "           ([ 7,  1,  0,  0], 0., 1, [ True,  True,  True,  True],  True),\n",
       "           ([ 7,  1,  1,  1], 0., 1, [ True,  True,  True,  True],  True),\n",
       "           ([ 8,  0,  0,  0], 0., 1, [ True,  True,  True,  True],  True),\n",
       "           ([ 8,  1,  0,  0], 0., 1, [ True,  True,  True,  True],  True),\n",
       "           ([ 8,  1,  1,  1], 0., 1, [ True,  True,  True,  True],  True),\n",
       "           ([ 9,  0,  0,  0], 0., 1, [ True,  True,  True,  True],  True),\n",
       "           ([ 9,  1,  0,  0], 0., 1, [ True,  True,  True,  True],  True),\n",
       "           ([ 9,  1,  1,  1], 0., 1, [ True,  True,  True,  True],  True),\n",
       "           ([10,  0,  0,  0], 0., 1, [ True,  True,  True,  True],  True),\n",
       "           ([10,  1,  0,  0], 0., 1, [ True,  True,  True,  True],  True),\n",
       "           ([10,  1,  1,  1], 0., 1, [ True,  True,  True,  True],  True),\n",
       "           ([11,  0,  0,  0], 0., 1, [ True,  True,  True,  True],  True),\n",
       "           ([11,  1,  0,  0], 0., 1, [ True,  True,  True,  True],  True),\n",
       "           ([11,  1,  1,  1], 0., 1, [ True,  True,  True,  True],  True),\n",
       "           ([12,  0,  0,  0], 0., 1, [ True,  True,  True,  True],  True),\n",
       "           ([12,  1,  0,  0], 0., 1, [ True,  True,  True,  True],  True),\n",
       "           ([12,  1,  1,  1], 0., 1, [ True,  True,  True,  True],  True),\n",
       "           ([13,  0,  0,  0], 0., 1, [ True,  True,  True,  True],  True),\n",
       "           ([13,  1,  0,  0], 0., 1, [ True,  True,  True,  True],  True),\n",
       "           ([13,  1,  1,  1], 0., 1, [ True,  True,  True,  True],  True),\n",
       "           ([14,  0,  0,  0], 0., 1, [ True,  True,  True,  True],  True),\n",
       "           ([14,  1,  0,  0], 0., 1, [ True,  True,  True,  True],  True),\n",
       "           ([14,  1,  1,  1], 0., 1, [ True,  True,  True,  True],  True),\n",
       "           ([15,  0,  0,  0], 0., 1, [ True,  True,  True,  True],  True),\n",
       "           ([15,  1,  0,  0], 0., 1, [ True,  True,  True,  True],  True),\n",
       "           ([15,  1,  1,  1], 0., 1, [ True,  True,  True,  True],  True),\n",
       "           ([16,  0,  0,  0], 0., 1, [ True,  True,  True,  True],  True),\n",
       "           ([16,  1,  0,  0], 0., 1, [ True,  True,  True,  True],  True),\n",
       "           ([16,  1,  1,  1], 0., 1, [ True,  True,  True,  True],  True),\n",
       "           ([17,  0,  0,  0], 0., 1, [ True,  True,  True,  True],  True),\n",
       "           ([17,  1,  0,  0], 0., 1, [ True,  True,  True,  True],  True),\n",
       "           ([17,  1,  1,  1], 0., 1, [ True,  True,  True,  True],  True),\n",
       "           ([18,  0,  0,  0], 0., 1, [ True,  True,  True,  True],  True),\n",
       "           ([18,  1,  0,  0], 0., 1, [ True,  True,  True,  True],  True),\n",
       "           ([18,  1,  1,  1], 0., 1, [ True,  True,  True,  True],  True),\n",
       "           ([19,  0,  0,  0], 0., 1, [ True,  True,  True,  True],  True),\n",
       "           ([19,  1,  0,  0], 0., 1, [ True,  True,  True,  True],  True),\n",
       "           ([19,  1,  1,  1], 0., 1, [ True,  True,  True,  True],  True),\n",
       "           ([20,  0,  0,  0], 0., 1, [ True,  True,  True,  True],  True),\n",
       "           ([20,  1,  0,  0], 0., 1, [ True,  True,  True,  True],  True),\n",
       "           ([20,  1,  1,  1], 0., 1, [ True,  True,  True,  True],  True)],\n",
       "          dtype=[('sample', '<i8', (4,)), ('energy', '<f8'), ('num_occurrences', '<i8'), ('is_satisfied', '?', (4,)), ('is_feasible', '?')]), Variables(['l', 'p', 't', 'v']), {'constraint_labels': ['constraint 1', 'constraint 2', 'constraint 3', 'constrain 4']}, 'INTEGER')"
      ]
     },
     "execution_count": 87,
     "metadata": {},
     "output_type": "execute_result"
    }
   ],
   "source": [
    "sample_set_scheduling = ExactCQMSolver().sample_cqm(cqm_scheduling)\n",
    "feasible_sol = sample_set_scheduling.filter( lambda sol : sol.is_feasible )\n",
    "feasible_sol"
   ]
  },
  {
   "cell_type": "code",
   "execution_count": 86,
   "metadata": {},
   "outputs": [
    {
     "data": {
      "text/plain": [
       "SampleSet(rec.array([([ 0,  0,  0,  0], 0., 1, [ True,  True,  True,  True],  True),\n",
       "           ([ 0,  1,  0,  0], 0., 1, [ True,  True,  True,  True],  True),\n",
       "           ([ 0,  1,  1,  1], 0., 1, [ True,  True,  True,  True],  True),\n",
       "           ([ 1,  0,  0,  0], 0., 1, [ True,  True,  True,  True],  True),\n",
       "           ([ 1,  1,  0,  0], 0., 1, [ True,  True,  True,  True],  True),\n",
       "           ([ 1,  1,  1,  1], 0., 1, [ True,  True,  True,  True],  True),\n",
       "           ([ 2,  0,  0,  0], 0., 1, [ True,  True,  True,  True],  True),\n",
       "           ([ 2,  1,  0,  0], 0., 1, [ True,  True,  True,  True],  True),\n",
       "           ([ 2,  1,  1,  1], 0., 1, [ True,  True,  True,  True],  True),\n",
       "           ([ 3,  0,  0,  0], 0., 1, [ True,  True,  True,  True],  True),\n",
       "           ([ 3,  1,  0,  0], 0., 1, [ True,  True,  True,  True],  True),\n",
       "           ([ 3,  1,  1,  1], 0., 1, [ True,  True,  True,  True],  True),\n",
       "           ([ 4,  0,  0,  0], 0., 1, [ True,  True,  True,  True],  True),\n",
       "           ([ 4,  1,  0,  0], 0., 1, [ True,  True,  True,  True],  True),\n",
       "           ([ 4,  1,  1,  1], 0., 1, [ True,  True,  True,  True],  True),\n",
       "           ([ 5,  0,  0,  0], 0., 1, [ True,  True,  True,  True],  True),\n",
       "           ([ 5,  1,  0,  0], 0., 1, [ True,  True,  True,  True],  True),\n",
       "           ([ 5,  1,  1,  1], 0., 1, [ True,  True,  True,  True],  True),\n",
       "           ([ 6,  0,  0,  0], 0., 1, [ True,  True,  True,  True],  True),\n",
       "           ([ 6,  1,  0,  0], 0., 1, [ True,  True,  True,  True],  True),\n",
       "           ([ 6,  1,  1,  1], 0., 1, [ True,  True,  True,  True],  True),\n",
       "           ([ 7,  0,  0,  0], 0., 1, [ True,  True,  True,  True],  True),\n",
       "           ([ 7,  1,  0,  0], 0., 1, [ True,  True,  True,  True],  True),\n",
       "           ([ 7,  1,  1,  1], 0., 1, [ True,  True,  True,  True],  True),\n",
       "           ([ 8,  0,  0,  0], 0., 1, [ True,  True,  True,  True],  True),\n",
       "           ([ 8,  1,  0,  0], 0., 1, [ True,  True,  True,  True],  True),\n",
       "           ([ 8,  1,  1,  1], 0., 1, [ True,  True,  True,  True],  True),\n",
       "           ([ 9,  0,  0,  0], 0., 1, [ True,  True,  True,  True],  True),\n",
       "           ([ 9,  1,  0,  0], 0., 1, [ True,  True,  True,  True],  True),\n",
       "           ([ 9,  1,  1,  1], 0., 1, [ True,  True,  True,  True],  True),\n",
       "           ([10,  0,  0,  0], 0., 1, [ True,  True,  True,  True],  True),\n",
       "           ([10,  1,  0,  0], 0., 1, [ True,  True,  True,  True],  True),\n",
       "           ([10,  1,  1,  1], 0., 1, [ True,  True,  True,  True],  True),\n",
       "           ([11,  0,  0,  0], 0., 1, [ True,  True,  True,  True],  True),\n",
       "           ([11,  1,  0,  0], 0., 1, [ True,  True,  True,  True],  True),\n",
       "           ([11,  1,  1,  1], 0., 1, [ True,  True,  True,  True],  True),\n",
       "           ([12,  0,  0,  0], 0., 1, [ True,  True,  True,  True],  True),\n",
       "           ([12,  1,  0,  0], 0., 1, [ True,  True,  True,  True],  True),\n",
       "           ([12,  1,  1,  1], 0., 1, [ True,  True,  True,  True],  True),\n",
       "           ([13,  0,  0,  0], 0., 1, [ True,  True,  True,  True],  True),\n",
       "           ([13,  1,  0,  0], 0., 1, [ True,  True,  True,  True],  True),\n",
       "           ([13,  1,  1,  1], 0., 1, [ True,  True,  True,  True],  True),\n",
       "           ([14,  0,  0,  0], 0., 1, [ True,  True,  True,  True],  True),\n",
       "           ([14,  1,  0,  0], 0., 1, [ True,  True,  True,  True],  True),\n",
       "           ([14,  1,  1,  1], 0., 1, [ True,  True,  True,  True],  True),\n",
       "           ([15,  0,  0,  0], 0., 1, [ True,  True,  True,  True],  True),\n",
       "           ([15,  1,  0,  0], 0., 1, [ True,  True,  True,  True],  True),\n",
       "           ([15,  1,  1,  1], 0., 1, [ True,  True,  True,  True],  True),\n",
       "           ([16,  0,  0,  0], 0., 1, [ True,  True,  True,  True],  True),\n",
       "           ([16,  1,  0,  0], 0., 1, [ True,  True,  True,  True],  True),\n",
       "           ([16,  1,  1,  1], 0., 1, [ True,  True,  True,  True],  True),\n",
       "           ([17,  0,  0,  0], 0., 1, [ True,  True,  True,  True],  True),\n",
       "           ([17,  1,  0,  0], 0., 1, [ True,  True,  True,  True],  True),\n",
       "           ([17,  1,  1,  1], 0., 1, [ True,  True,  True,  True],  True),\n",
       "           ([18,  0,  0,  0], 0., 1, [ True,  True,  True,  True],  True),\n",
       "           ([18,  1,  0,  0], 0., 1, [ True,  True,  True,  True],  True),\n",
       "           ([18,  1,  1,  1], 0., 1, [ True,  True,  True,  True],  True),\n",
       "           ([19,  0,  0,  0], 0., 1, [ True,  True,  True,  True],  True),\n",
       "           ([19,  1,  0,  0], 0., 1, [ True,  True,  True,  True],  True),\n",
       "           ([19,  1,  1,  1], 0., 1, [ True,  True,  True,  True],  True),\n",
       "           ([20,  0,  0,  0], 0., 1, [ True,  True,  True,  True],  True),\n",
       "           ([20,  1,  0,  0], 0., 1, [ True,  True,  True,  True],  True),\n",
       "           ([20,  1,  1,  1], 0., 1, [ True,  True,  True,  True],  True)],\n",
       "          dtype=[('sample', '<i8', (4,)), ('energy', '<f8'), ('num_occurrences', '<i8'), ('is_satisfied', '?', (4,)), ('is_feasible', '?')]), Variables(['l', 'p', 't', 'v']), {'constraint_labels': ['constraint 1', 'constraint 2', 'constraint 3', 'constrain 4']}, 'INTEGER')"
      ]
     },
     "execution_count": 86,
     "metadata": {},
     "output_type": "execute_result"
    }
   ],
   "source": [
    "# sample_set_scheduling = LeapHybridCQMSampler().sample_cqm(cqm_scheduling)\n",
    "# feasible_sol = sample_set_scheduling.filter( lambda sol : sol.is_feasible )\n",
    "# feasible_sol"
   ]
  },
  {
   "cell_type": "markdown",
   "metadata": {},
   "source": [
    "### Scratch Cells"
   ]
  },
  {
   "cell_type": "code",
   "execution_count": null,
   "metadata": {},
   "outputs": [
    {
     "data": {
      "text/html": [
       "<div>\n",
       "<style scoped>\n",
       "    .dataframe tbody tr th:only-of-type {\n",
       "        vertical-align: middle;\n",
       "    }\n",
       "\n",
       "    .dataframe tbody tr th {\n",
       "        vertical-align: top;\n",
       "    }\n",
       "\n",
       "    .dataframe thead th {\n",
       "        text-align: right;\n",
       "    }\n",
       "</style>\n",
       "<table border=\"1\" class=\"dataframe\">\n",
       "  <thead>\n",
       "    <tr style=\"text-align: right;\">\n",
       "      <th></th>\n",
       "      <th>0</th>\n",
       "      <th>1</th>\n",
       "      <th>2</th>\n",
       "      <th>3</th>\n",
       "      <th>4</th>\n",
       "      <th>5</th>\n",
       "      <th>6</th>\n",
       "      <th>7</th>\n",
       "      <th>8</th>\n",
       "      <th>9</th>\n",
       "      <th>energy</th>\n",
       "      <th>is_feasible</th>\n",
       "      <th>is_satisfied</th>\n",
       "      <th>num_occurrences</th>\n",
       "    </tr>\n",
       "  </thead>\n",
       "  <tbody>\n",
       "    <tr>\n",
       "      <th>0</th>\n",
       "      <td>0</td>\n",
       "      <td>0</td>\n",
       "      <td>0</td>\n",
       "      <td>0</td>\n",
       "      <td>0</td>\n",
       "      <td>0</td>\n",
       "      <td>0</td>\n",
       "      <td>0</td>\n",
       "      <td>0</td>\n",
       "      <td>0</td>\n",
       "      <td>0.0</td>\n",
       "      <td>True</td>\n",
       "      <td>True</td>\n",
       "      <td>1</td>\n",
       "    </tr>\n",
       "    <tr>\n",
       "      <th>1</th>\n",
       "      <td>0</td>\n",
       "      <td>1</td>\n",
       "      <td>0</td>\n",
       "      <td>0</td>\n",
       "      <td>0</td>\n",
       "      <td>0</td>\n",
       "      <td>0</td>\n",
       "      <td>0</td>\n",
       "      <td>0</td>\n",
       "      <td>0</td>\n",
       "      <td>-1.0</td>\n",
       "      <td>True</td>\n",
       "      <td>True</td>\n",
       "      <td>1</td>\n",
       "    </tr>\n",
       "    <tr>\n",
       "      <th>2</th>\n",
       "      <td>1</td>\n",
       "      <td>0</td>\n",
       "      <td>0</td>\n",
       "      <td>0</td>\n",
       "      <td>0</td>\n",
       "      <td>0</td>\n",
       "      <td>0</td>\n",
       "      <td>0</td>\n",
       "      <td>0</td>\n",
       "      <td>0</td>\n",
       "      <td>-1.0</td>\n",
       "      <td>True</td>\n",
       "      <td>True</td>\n",
       "      <td>1</td>\n",
       "    </tr>\n",
       "    <tr>\n",
       "      <th>3</th>\n",
       "      <td>1</td>\n",
       "      <td>1</td>\n",
       "      <td>0</td>\n",
       "      <td>0</td>\n",
       "      <td>0</td>\n",
       "      <td>0</td>\n",
       "      <td>0</td>\n",
       "      <td>0</td>\n",
       "      <td>0</td>\n",
       "      <td>0</td>\n",
       "      <td>-2.0</td>\n",
       "      <td>False</td>\n",
       "      <td>False</td>\n",
       "      <td>1</td>\n",
       "    </tr>\n",
       "    <tr>\n",
       "      <th>4</th>\n",
       "      <td>0</td>\n",
       "      <td>0</td>\n",
       "      <td>1</td>\n",
       "      <td>0</td>\n",
       "      <td>0</td>\n",
       "      <td>0</td>\n",
       "      <td>0</td>\n",
       "      <td>0</td>\n",
       "      <td>0</td>\n",
       "      <td>0</td>\n",
       "      <td>-1.0</td>\n",
       "      <td>True</td>\n",
       "      <td>True</td>\n",
       "      <td>1</td>\n",
       "    </tr>\n",
       "    <tr>\n",
       "      <th>...</th>\n",
       "      <td>...</td>\n",
       "      <td>...</td>\n",
       "      <td>...</td>\n",
       "      <td>...</td>\n",
       "      <td>...</td>\n",
       "      <td>...</td>\n",
       "      <td>...</td>\n",
       "      <td>...</td>\n",
       "      <td>...</td>\n",
       "      <td>...</td>\n",
       "      <td>...</td>\n",
       "      <td>...</td>\n",
       "      <td>...</td>\n",
       "      <td>...</td>\n",
       "    </tr>\n",
       "    <tr>\n",
       "      <th>1019</th>\n",
       "      <td>1</td>\n",
       "      <td>1</td>\n",
       "      <td>0</td>\n",
       "      <td>1</td>\n",
       "      <td>1</td>\n",
       "      <td>1</td>\n",
       "      <td>1</td>\n",
       "      <td>1</td>\n",
       "      <td>1</td>\n",
       "      <td>1</td>\n",
       "      <td>-9.0</td>\n",
       "      <td>False</td>\n",
       "      <td>False</td>\n",
       "      <td>1</td>\n",
       "    </tr>\n",
       "    <tr>\n",
       "      <th>1020</th>\n",
       "      <td>0</td>\n",
       "      <td>0</td>\n",
       "      <td>1</td>\n",
       "      <td>1</td>\n",
       "      <td>1</td>\n",
       "      <td>1</td>\n",
       "      <td>1</td>\n",
       "      <td>1</td>\n",
       "      <td>1</td>\n",
       "      <td>1</td>\n",
       "      <td>-8.0</td>\n",
       "      <td>False</td>\n",
       "      <td>False</td>\n",
       "      <td>1</td>\n",
       "    </tr>\n",
       "    <tr>\n",
       "      <th>1021</th>\n",
       "      <td>0</td>\n",
       "      <td>1</td>\n",
       "      <td>1</td>\n",
       "      <td>1</td>\n",
       "      <td>1</td>\n",
       "      <td>1</td>\n",
       "      <td>1</td>\n",
       "      <td>1</td>\n",
       "      <td>1</td>\n",
       "      <td>1</td>\n",
       "      <td>-9.0</td>\n",
       "      <td>False</td>\n",
       "      <td>False</td>\n",
       "      <td>1</td>\n",
       "    </tr>\n",
       "    <tr>\n",
       "      <th>1022</th>\n",
       "      <td>1</td>\n",
       "      <td>0</td>\n",
       "      <td>1</td>\n",
       "      <td>1</td>\n",
       "      <td>1</td>\n",
       "      <td>1</td>\n",
       "      <td>1</td>\n",
       "      <td>1</td>\n",
       "      <td>1</td>\n",
       "      <td>1</td>\n",
       "      <td>-9.0</td>\n",
       "      <td>False</td>\n",
       "      <td>False</td>\n",
       "      <td>1</td>\n",
       "    </tr>\n",
       "    <tr>\n",
       "      <th>1023</th>\n",
       "      <td>1</td>\n",
       "      <td>1</td>\n",
       "      <td>1</td>\n",
       "      <td>1</td>\n",
       "      <td>1</td>\n",
       "      <td>1</td>\n",
       "      <td>1</td>\n",
       "      <td>1</td>\n",
       "      <td>1</td>\n",
       "      <td>1</td>\n",
       "      <td>-10.0</td>\n",
       "      <td>False</td>\n",
       "      <td>False</td>\n",
       "      <td>1</td>\n",
       "    </tr>\n",
       "  </tbody>\n",
       "</table>\n",
       "<p>1024 rows × 14 columns</p>\n",
       "</div>"
      ],
      "text/plain": [
       "      0  1  2  3  4  5  6  7  8  9  energy  is_feasible  is_satisfied  \\\n",
       "0     0  0  0  0  0  0  0  0  0  0     0.0         True          True   \n",
       "1     0  1  0  0  0  0  0  0  0  0    -1.0         True          True   \n",
       "2     1  0  0  0  0  0  0  0  0  0    -1.0         True          True   \n",
       "3     1  1  0  0  0  0  0  0  0  0    -2.0        False         False   \n",
       "4     0  0  1  0  0  0  0  0  0  0    -1.0         True          True   \n",
       "...  .. .. .. .. .. .. .. .. .. ..     ...          ...           ...   \n",
       "1019  1  1  0  1  1  1  1  1  1  1    -9.0        False         False   \n",
       "1020  0  0  1  1  1  1  1  1  1  1    -8.0        False         False   \n",
       "1021  0  1  1  1  1  1  1  1  1  1    -9.0        False         False   \n",
       "1022  1  0  1  1  1  1  1  1  1  1    -9.0        False         False   \n",
       "1023  1  1  1  1  1  1  1  1  1  1   -10.0        False         False   \n",
       "\n",
       "      num_occurrences  \n",
       "0                   1  \n",
       "1                   1  \n",
       "2                   1  \n",
       "3                   1  \n",
       "4                   1  \n",
       "...               ...  \n",
       "1019                1  \n",
       "1020                1  \n",
       "1021                1  \n",
       "1022                1  \n",
       "1023                1  \n",
       "\n",
       "[1024 rows x 14 columns]"
      ]
     },
     "execution_count": 73,
     "metadata": {},
     "output_type": "execute_result"
    }
   ],
   "source": [
    "graph_sample_set.to_pandas_dataframe()"
   ]
  },
  {
   "cell_type": "code",
   "execution_count": null,
   "metadata": {},
   "outputs": [],
   "source": []
  }
 ],
 "metadata": {
  "kernelspec": {
   "display_name": "Python 3.10.4 64-bit",
   "language": "python",
   "name": "python3"
  },
  "language_info": {
   "codemirror_mode": {
    "name": "ipython",
    "version": 3
   },
   "file_extension": ".py",
   "mimetype": "text/x-python",
   "name": "python",
   "nbconvert_exporter": "python",
   "pygments_lexer": "ipython3",
   "version": "3.10.4"
  },
  "orig_nbformat": 4,
  "vscode": {
   "interpreter": {
    "hash": "31f2aee4e71d21fbe5cf8b01ff0e069b9275f58929596ceb00d14d90e3e16cd6"
   }
  }
 },
 "nbformat": 4,
 "nbformat_minor": 2
}
