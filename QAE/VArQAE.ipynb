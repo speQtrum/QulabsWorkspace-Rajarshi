{
 "cells": [
  {
   "cell_type": "code",
   "execution_count": null,
   "metadata": {},
   "outputs": [],
   "source": [
    "## imports\n",
    "import numpy as np\n",
    "from numpy import pi\n",
    "import seaborn as sns\n",
    "from IPython.display import Image\n",
    "import matplotlib.pyplot as plt\n",
    "\n",
    "from scipy.optimize import minimize \n",
    "from scipy.interpolate import griddata\n",
    "import math\n",
    "from typing import Union"
   ]
  },
  {
   "cell_type": "code",
   "execution_count": null,
   "metadata": {},
   "outputs": [],
   "source": [
    "## qiskit import\n",
    "from qiskit import *\n",
    "from qiskit.algorithms import *\n",
    "from qiskit import QuantumRegister, ClassicalRegister, QuantumCircuit\n",
    "from qiskit import quantum_info, IBMQ, Aer\n",
    "from qiskit import BasicAer, transpile\n",
    "from qiskit.utils import QuantumInstance\n",
    "from qiskit.quantum_info import Statevector, partial_trace , DensityMatrix\n",
    "from qiskit.circuit import Parameter, ParameterExpression, ParameterVector\n",
    "# backend = BasicAer.get_backend(\"statevector_simulator\")\n",
    "# quantum_instance = QuantumInstance(backend)\n",
    "from qiskit.algorithms import optimizers, AmplitudeEstimation, EstimationProblem, AmplificationProblem, Grover, GroverResult, AmplitudeAmplifier\n",
    "from qiskit.circuit.library import LinearAmplitudeFunction, LinearPauliRotations, PiecewiseLinearPauliRotations, WeightedAdder, GroverOperator\n",
    "from qiskit_finance.circuit.library import LogNormalDistribution, NormalDistribution\n",
    "#from qiskit.ignis.verification.tomography import state_tomography_circuits, StateTomographyFitter\n",
    "from qiskit.visualization import plot_histogram, plot_state_qsphere, plot_bloch_multivector, plot_bloch_vector\n"
   ]
  },
  {
   "cell_type": "code",
   "execution_count": null,
   "metadata": {},
   "outputs": [],
   "source": [
    "## IBM setup ~\n",
    "# IBMQ.save_account(\"1c62e8a0d2b058d0e797db9c811bc34582df5553e25812301cd1518662c0ab68d2378ac6c197b65f8be944d04b7e7439f034e3926a44fa8088538b3d13782c1a\", overwrite= True)\n",
    "provider = IBMQ.load_account()\n",
    "# IBMQ.get_provider(hub='ibm-q-education', group='iit-madras-1', project='quantum-computin')\n",
    "# setup required backends \n",
    "lima = provider.get_backend('ibmq_lima')\n",
    "# construct circuit for uncertainty modeler.get_backend('ibmq_lima')\n",
    "manila = provider.get_backend('ibmq_manila')\n",
    "qsm = Aer.get_backend('qasm_simulator')\n",
    "stv = Aer.get_backend('statevector_simulator')\n",
    "aer = Aer.get_backend('aer_simulator')"
   ]
  },
  {
   "cell_type": "code",
   "execution_count": null,
   "metadata": {},
   "outputs": [],
   "source": [
    "## helper fucntions ~\n",
    "def str_to_oracle(pattern: str, name= 'oracle', return_type = \"QuantumCircuit\" ) -> Union[QuantumCircuit,  Statevector] :\n",
    "    \"\"\" Convert a given string to an oracle circuit\n",
    "        ARGS:\n",
    "             pattern: a numpy vector with binarry entries \n",
    "        RETURNS: \n",
    "                QuantumCircuit   \"\"\"\n",
    "\n",
    "    l = len(pattern)\n",
    "    qr = QuantumRegister(l, name='reg')\n",
    "    a = AncillaRegister(1, name='ancilla')\n",
    "    oracle_circuit = QuantumCircuit(qr, a, name= name+str(pattern))\n",
    "    for q in range(l):\n",
    "        if(pattern[q]=='0'): oracle_circuit.x(qr[q])\n",
    "    oracle_circuit.x(a)\n",
    "    oracle_circuit.h(a)\n",
    "    oracle_circuit.mcx(qr, a)\n",
    "    oracle_circuit.h(a)\n",
    "    oracle_circuit.x(a)\n",
    "    for q in range(l):\n",
    "        if(pattern[q]=='0'): oracle_circuit.x(qr[q])\n",
    "    \n",
    "    #oracle_circuit.barrier()\n",
    "    if return_type == \"QuantumCircuit\":\n",
    "        return oracle_circuit\n",
    "\n",
    "## oracle prep ~\n",
    "def generate_oracles(good_states: list) -> QuantumCircuit :\n",
    "    \"\"\" Return a QuantumCircuit that implements the oracles given the good_states\n",
    "        ARGS:\n",
    "            good_states: list of good staes, states must be binary strings, Eg. ['00', '11']\n",
    "        RETURNS:\n",
    "            QuantumCircuit \"\"\"\n",
    "\n",
    "    oracles = [ str_to_oracle(good_state) for good_state in good_states ]\n",
    "    oracle_circuit = oracles[0]\n",
    "    for oracle in oracles[1:] :\n",
    "        oracle_circuit.compose(oracle,  inplace= True)\n",
    "    \n",
    "    return oracle_circuit\n",
    "\n",
    "## state prep circuit ~\n",
    "def state_prep_circuit(n):\n",
    "    qreg = QuantumRegister(n)\n",
    "    state_prep_circuit = QuantumCircuit(qreg, name = \"state_prep\")\n",
    "    state_prep_circuit.h(qreg)\n",
    "\n",
    "    return state_prep_circuit\n",
    "\n",
    "def plot_histogram_cmpr(counts, figsize= (15,8)):\n",
    "    return plot_histogram([counts[0], counts[1]], figsize= figsize, legend= ['grover', 'variational'], title= 'Comparison')\n"
   ]
  },
  {
   "cell_type": "code",
   "execution_count": null,
   "metadata": {},
   "outputs": [],
   "source": [
    "## optimisation step ~\n",
    "def objective(var_params , state_prep_circuit , var_prep_circuit,  grover_circuit, grover_k = 1 , shots= 1024) :\n",
    "    \"\"\" function to compare the performace of the varriational circuit with the grover circuit \n",
    "        ARGS: \n",
    "            var_params: variational parameters to be used in the variational circuit \n",
    "            state_prep_circuit: fucntion to generate circuit for preapring the initial state\n",
    "            var_preps_circuit: function to generate the variational circuit \n",
    "            grover_circuit: circuit that implements the grover operator \n",
    "            grover_k: power to which the grover operator is to be raised, is implemented as iterative composition of the 'grover_circuit'\n",
    "        \n",
    "        RETURNS: \n",
    "                required fidelity between the grover circuit and the variational circuit \"\"\"\n",
    "    \n",
    "    num_state_qubits = grover_circuit.num_qubits - grover_circuit.num_ancillas\n",
    "    qc = state_prep_circuit(num_state_qubits)\n",
    "    state_prep_circuit_var = qc.copy()\n",
    "    state_prep_circuit_grover = qc.copy()\n",
    "\n",
    "    ## var ~\n",
    "    var_circuit = var_prep_circuit(num_state_qubits, var_params_input= var_params )\n",
    "    state_prep_circuit_var.compose( var_circuit, inplace= True )\n",
    "    \n",
    "    ## grover ~\n",
    "    num_ancillas=  grover_circuit.num_ancillas\n",
    "    ancilla = AncillaRegister(num_ancillas, name= 'ancilla')\n",
    "    state_prep_circuit_grover.add_register(ancilla)\n",
    "    for iter in range(grover_k):\n",
    "            state_prep_circuit_grover.compose( grover_circuit, inplace= True)\n",
    "\n",
    "    ## measure fidelity using 'Statevector' method ~\n",
    "    var_statevector = Statevector.from_instruction(state_prep_circuit_var)\n",
    "    # print(partial_trace(Statevector.from_instruction(state_prep_circuit_grover), [num_state_qubits] )) ##checkflag\n",
    "    grover_statevector = partial_trace(Statevector.from_instruction(state_prep_circuit_grover), [num_state_qubits] ).to_statevector()\n",
    "    \n",
    "    fidelity = -1*np.real(var_statevector.inner(grover_statevector))\n",
    "    print('fidelity :', fidelity) ##checkflag\n",
    "\n",
    "    return fidelity\n",
    "\n",
    "\n",
    "def test_var_vs_grover(var_params , state_prep_circuit , var_prep_circuit,  grover_circuit, grover_k= 1, shots= 1024, plot= True):\n",
    "    \"\"\" function to compare the performace of the varriational circuit with the grover circuit \n",
    "        ARGS: \n",
    "            var_params: variational parameters to be used in the variational circuit \n",
    "            state_prep_circuit: fucntion to generate circuit for preapring the initial state\n",
    "            var_preps_circuit: function to generate the variational circuit \n",
    "            grover_circuit: circuit that implements the grover operator \n",
    "            grover_k: power to which the grover operator is to be raised, is implemented as iterative composition of the 'grover_circuit'\n",
    "        \n",
    "        RETURNS: \n",
    "            [grover_counts, var_counts] : a list containing the 'counts' dictionary obtained by executing the grover circuit and the variational circuit.\n",
    "            state_prep_circuit_grover : circuit for grover \n",
    "            state_prep_circuit_var :  variational circuit\n",
    "            \n",
    "            \"\"\"\n",
    "    \n",
    "    num_state_qubits = grover_circuit.num_qubits - grover_circuit.num_ancillas\n",
    "    creg = ClassicalRegister(num_state_qubits, name= 'creg' )\n",
    "\n",
    "    qc = state_prep_circuit(num_state_qubits)\n",
    "    state_prep_circuit_var = qc.copy()\n",
    "    state_prep_circuit_grover = qc.copy()\n",
    "\n",
    "    ## var ~\n",
    "    var_circuit = var_prep_circuit(num_state_qubits, var_params_input= var_params, insert_barriers= True )\n",
    "    state_prep_circuit_var.compose( var_circuit, inplace= True )\n",
    "    state_prep_circuit_var.measure_all()\n",
    "\n",
    "    var_counts = execute(state_prep_circuit_var, backend= qsm, shots= 1024).result().get_counts()\n",
    "\n",
    "    ## grover ~\n",
    "    num_ancillas=  grover_circuit.num_ancillas\n",
    "    qreg_grover = QuantumRegister(num_state_qubits, name= 'qreg')\n",
    "    state_prep_circuit_grover = QuantumCircuit(qreg_grover).compose(state_prep_circuit_grover)\n",
    "    ancilla = AncillaRegister(num_ancillas, name= 'ancilla')\n",
    "    creg = ClassicalRegister(num_state_qubits, name= 'creg')\n",
    "    state_prep_circuit_grover.add_register(ancilla)\n",
    "    state_prep_circuit_grover.add_register(creg)\n",
    "    for iter in range(grover_k):\n",
    "        state_prep_circuit_grover.compose( grover_circuit, inplace= True)\n",
    "\n",
    "    state_prep_circuit_grover.measure(qreg_grover, creg )\n",
    "    grover_counts = execute(state_prep_circuit_grover, backend= qsm, shots= shots).result().get_counts()\n",
    "\n",
    "    ## plot histogram ~\n",
    "    # if plot == True:\n",
    "        \n",
    "\n",
    "    return [grover_counts, var_counts] , state_prep_circuit_grover, state_prep_circuit_var \n"
   ]
  },
  {
   "cell_type": "markdown",
   "metadata": {},
   "source": [
    "## Variational Quantum Amplitude Estimation Algorithm \n",
    "Here we try to implement QAE based on variational quantum circuits as discussed in the paper <insert link >. "
   ]
  },
  {
   "cell_type": "markdown",
   "metadata": {},
   "source": [
    "### Step:\n",
    "Designning a variational circuit to implement $\\mathcal{Q}^k$ on a given initial state, where $\\mathcal{Q}$ is the grover operator composed as \n",
    "$ \\mathcal{Q} = - (\\mathbb{I} - 2 P_{\\psi_0})(\\mathbb{I} - 2 P_{good})$. The variational circuit will be constructed out of paramterised $R_y$ gates and $CX$ gates, as discussed in the original paper. "
   ]
  },
  {
   "cell_type": "markdown",
   "metadata": {},
   "source": [
    "For implementation we will use pre-defined functions such as  ```AmplificationProblem```, ```Grover``` , ```GroverOperator``` from ```qiskit.circuit.library``` and ```qiskit.algorithms``` module."
   ]
  },
  {
   "cell_type": "markdown",
   "metadata": {},
   "source": [
    "##### #2 qubit states"
   ]
  },
  {
   "cell_type": "code",
   "execution_count": null,
   "metadata": {},
   "outputs": [],
   "source": [
    "## variational circuit preparation ~\n",
    "def var_circuit_2qubit(n=2 , var_params_input= 'random' , num_var_params= 4):\n",
    "    \"\"\" Prepare a variational circuit that will optimised to emulate the action of a Grover circuit \n",
    "        ARGS: \n",
    "            n: no. of qubits [**Prefixed]\n",
    "            var_params_input: variational parmaters to be used in the circuit. If 'random' the parmaters are intiialised randomly\n",
    "        RETURNS:\n",
    "            QuantumCircuit \n",
    "    \"\"\"\n",
    "        \n",
    "    qreg = QuantumRegister(n, name= 'qreg')\n",
    "    var_circuit = QuantumCircuit(qreg, name= \"Var_\"+str(n))\n",
    "    \n",
    "    if var_params_input == 'random' : var_params = np.random.uniform(low= 0, high= 2*pi, size= num_var_params)\n",
    "    else: var_params = var_params_input\n",
    "    \n",
    "    var_circuit.ry(var_params[0], qreg[1] )\n",
    "    var_circuit.cx(1,0)\n",
    "    var_circuit.ry(var_params[1], qreg[1])\n",
    "    var_circuit.ry(var_params[2], qreg[0])\n",
    "    var_circuit.cx(1,0)\n",
    "    var_circuit.ry(var_params[3], qreg[1])\n",
    "\n",
    "    return var_circuit"
   ]
  },
  {
   "cell_type": "code",
   "execution_count": null,
   "metadata": {},
   "outputs": [],
   "source": [
    "## init ~\n",
    "good_states = ['01']\n",
    "n = len(good_states[0])\n",
    "initial_state = None\n",
    "\n",
    "## create grover operator ~\n",
    "oracle_circuit = generate_oracles(good_states)\n",
    "grover_operator = GroverOperator(oracle_circuit, name= \"Grover\", insert_barriers= False)"
   ]
  },
  {
   "cell_type": "code",
   "execution_count": null,
   "metadata": {},
   "outputs": [],
   "source": [
    "num_var_params = 4\n",
    "\n",
    "## scipy optimisation ~\n",
    "optimisation_result = minimize(objective, np.random.uniform(low= 0, high= 2*pi, size= num_var_params), (state_prep_circuit, var_circuit_2qubit, grover_operator), 'SLSQP')\n",
    "print('params: ', optimisation_result.x)\n",
    "\n",
    "## qiskit-based optimisation ~\n",
    "# adam = optimizers.ADAM(maxiter=500000)\n",
    "# optimisation_result = adam.minimize(objective, np.random.uniform(low= 0, high= 2*pi, size= num_var_params) )\n"
   ]
  },
  {
   "cell_type": "code",
   "execution_count": null,
   "metadata": {},
   "outputs": [],
   "source": [
    "result = test_var_vs_grover(optimisation_result.x, state_prep_circuit, var_circuit_2qubit, grover_operator)\n",
    "# plot_histogram(result[0])\n",
    "result[1].draw(), result[2].draw()"
   ]
  },
  {
   "cell_type": "markdown",
   "metadata": {},
   "source": [
    "#### #4qubit states"
   ]
  },
  {
   "cell_type": "code",
   "execution_count": null,
   "metadata": {},
   "outputs": [],
   "source": [
    "## variational circuit preparation ~\n",
    "def var_circuit_4qubit(n=4 , var_params_input= 'random' , num_var_layers= 2, insert_barriers= False):\n",
    "    \"\"\" Prepare a variational circuit that will optimised to emulate the action of a Grover circuit \n",
    "        ARGS: \n",
    "            n: no. of qubits [**Prefixed]\n",
    "            var_params_input: variational parmaters to be used in the circuit. If 'random' the parmaters are intiialised randomly\n",
    "            var_layers: no. of times a single variational unit is appended against itself. N.B every variational unit has same structure \n",
    "\n",
    "        RETURNS:\n",
    "            QuantumCircuit \n",
    "    \"\"\"\n",
    "        \n",
    "    qreg = QuantumRegister(n, name= 'qreg')\n",
    "    var_circuit = QuantumCircuit(qreg, name= \"Var_\"+str(n))\n",
    "    num_var_params = 10\n",
    "    \n",
    "    if var_params_input == 'random' : var_params = np.random.uniform(low= 0, high= 2*pi, size= num_var_params * var_layers)\n",
    "    else: var_params = var_params_input\n",
    "    \n",
    "    for layer in range(0, num_var_layers):\n",
    "        # print('layer :', layer) ##checkflag\n",
    "        if insert_barriers== True: var_circuit.barrier()\n",
    "        var_circuit.ry(var_params[num_var_params*layer + 0], 1)\n",
    "        var_circuit.ry(var_params[num_var_params*layer + 1], 3)\n",
    "  \n",
    "\n",
    "        var_circuit.cx(1,0)\n",
    "        var_circuit.ry(var_params[num_var_params*layer + 2], 0)\n",
    "        var_circuit.ry(var_params[num_var_params*layer + 3], 1)\n",
    "        var_circuit.cx(1,0)\n",
    "        var_circuit.cx(3,2)\n",
    "        var_circuit.ry(var_params[num_var_params*layer + 4], 2)\n",
    "        var_circuit.ry(var_params[num_var_params*layer + 5], 3)\n",
    "        var_circuit.cx(3,2)\n",
    "\n",
    "        var_circuit.ry(var_params[num_var_params*layer + 6], 1)\n",
    "        var_circuit.cx(1,2)\n",
    "        var_circuit.ry(var_params[num_var_params*layer + 7], 2)\n",
    "        var_circuit.cx(2,3)\n",
    "        var_circuit.ry(var_params[num_var_params*layer + 8], 3)\n",
    "        var_circuit.cx(3,0)\n",
    "        var_circuit.ry(var_params[num_var_params*layer + 9], 0)\n",
    "        var_circuit.cx(0,1)\n",
    "\n",
    "    return var_circuit"
   ]
  },
  {
   "cell_type": "code",
   "execution_count": null,
   "metadata": {},
   "outputs": [],
   "source": [
    "## init ~\n",
    "good_states = ['1101', '0010']\n",
    "n = len(good_states[0])\n",
    "initial_state = None\n",
    "\n",
    "## create grover operator ~\n",
    "oracle_circuit = generate_oracles(good_states)\n",
    "grover_operator_4qubit = GroverOperator(oracle_circuit, name= \"Grover\", insert_barriers= False)"
   ]
  },
  {
   "cell_type": "code",
   "execution_count": null,
   "metadata": {},
   "outputs": [],
   "source": [
    "var_layers = 2\n",
    "num_var_params = 10 * var_layers\n",
    "optimisation_result_4qubit = minimize(objective, np.random.uniform(low= 0, high= 2*pi, size= num_var_params), (state_prep_circuit, var_circuit_4qubit, grover_operator_4qubit), 'COBYLA')\n",
    "optimisation_result_4qubit = minimize(objective, optimisation_result_4qubit.x, (state_prep_circuit, var_circuit_4qubit, grover_operator_4qubit), 'BFGS')\n",
    "optimisation_result_4qubit = minimize(objective, optimisation_result_4qubit.x, (state_prep_circuit, var_circuit_4qubit, grover_operator_4qubit), 'COBYLA')\n",
    "# optimisation_result_4qubit = minimize(objective, optimisation_result_4qubit.x, (state_prep_circuit, var_circuit_6qubit, grover_operator_4qubit), 'COBYLA')\n",
    "print('params: ', optimisation_result_4qubit.x)"
   ]
  },
  {
   "cell_type": "code",
   "execution_count": null,
   "metadata": {},
   "outputs": [],
   "source": [
    "r = test_var_vs_grover(optimisation_result_4qubit.x, state_prep_circuit, var_circuit_4qubit, grover_operator_4qubit)"
   ]
  },
  {
   "cell_type": "code",
   "execution_count": null,
   "metadata": {},
   "outputs": [],
   "source": [
    "r[2].draw()"
   ]
  },
  {
   "cell_type": "code",
   "execution_count": null,
   "metadata": {},
   "outputs": [],
   "source": [
    "plot_histogram_cmpr(r[0])"
   ]
  },
  {
   "cell_type": "markdown",
   "metadata": {},
   "source": [
    "#### #6 qubit states"
   ]
  },
  {
   "cell_type": "code",
   "execution_count": null,
   "metadata": {},
   "outputs": [],
   "source": [
    "## variational circuit preparation ~\n",
    "def var_circuit_6qubit(n=6 , var_params_input= 'random' , num_var_layers= 3, insert_barriers= False):\n",
    "    \"\"\" Prepare a variational circuit that will optimised to emulate the action of a Grover circuit \n",
    "        ARGS: \n",
    "            n: no. of qubits [**Prefixed]\n",
    "            var_params_input: variational parmaters to be used in the circuit. If 'random' the parmaters are intiialised randomly\n",
    "            var_layers: no. of times a single variational unit is appended against itself. N.B every variational unit has same structure \n",
    "\n",
    "        RETURNS:\n",
    "            QuantumCircuit \n",
    "    \"\"\"\n",
    "        \n",
    "    qreg = QuantumRegister(n, name= 'qreg')\n",
    "    var_circuit = QuantumCircuit(qreg, name= \"Var_\"+str(n))\n",
    "    num_var_params = 15 \n",
    "    \n",
    "    if var_params_input == 'random' : var_params = np.random.uniform(low= 0, high= 2*pi, size= num_var_params * var_layers)\n",
    "    else: var_params = var_params_input\n",
    "    \n",
    "    for layer in range(0, num_var_layers):\n",
    "        # print('layer :', layer) ##checkflag\n",
    "        if insert_barriers== True: var_circuit.barrier()\n",
    "        var_circuit.ry(var_params[num_var_params*layer + 0], 1)\n",
    "        var_circuit.ry(var_params[num_var_params*layer + 1], 3)\n",
    "        var_circuit.ry(var_params[num_var_params*layer + 2], 5)\n",
    "\n",
    "        var_circuit.cx(1,0)\n",
    "        var_circuit.ry(var_params[num_var_params*layer + 3], 0)\n",
    "        var_circuit.ry(var_params[num_var_params*layer + 4], 1)\n",
    "        var_circuit.cx(1,0)\n",
    "        var_circuit.cx(3,2)\n",
    "        var_circuit.ry(var_params[num_var_params*layer + 5], 2)\n",
    "        var_circuit.ry(var_params[num_var_params*layer + 6], 3)\n",
    "        var_circuit.cx(3,2)\n",
    "        var_circuit.cx(5,4)\n",
    "        var_circuit.ry(var_params[num_var_params*layer + 7], 4)\n",
    "        var_circuit.ry(var_params[num_var_params*layer + 8], 5)\n",
    "        var_circuit.cx(5,4)\n",
    "\n",
    "        var_circuit.ry(var_params[num_var_params*layer + 9], 2)\n",
    "        var_circuit.ry(var_params[num_var_params*layer + 10], 4)\n",
    "\n",
    "        var_circuit.cx(2,1)\n",
    "        var_circuit.ry(var_params[num_var_params*layer + 11], 1)\n",
    "        var_circuit.ry(var_params[num_var_params*layer + 12], 2)\n",
    "        var_circuit.cx(2,1)\n",
    "        var_circuit.cx(4,3)\n",
    "        var_circuit.ry(var_params[num_var_params*layer + 13], 3)\n",
    "        var_circuit.ry(var_params[num_var_params*layer + 14], 4)\n",
    "        var_circuit.cx(4,3)\n",
    "\n",
    "    return var_circuit"
   ]
  },
  {
   "cell_type": "code",
   "execution_count": null,
   "metadata": {},
   "outputs": [],
   "source": [
    "## init ~\n",
    "good_states = ['011001', '001100']\n",
    "n = len(good_states[0])\n",
    "initial_state = None\n",
    "\n",
    "## create grover operator ~\n",
    "oracle_circuit = generate_oracles(good_states)\n",
    "grover_operator = GroverOperator(oracle_circuit, name= \"Grover\", insert_barriers= False)"
   ]
  },
  {
   "cell_type": "code",
   "execution_count": null,
   "metadata": {},
   "outputs": [],
   "source": [
    "var_layers = 3\n",
    "num_var_params = 15 * var_layers\n",
    "# optimisation_result = minimize(objective, np.random.uniform(low= 0, high= 2*pi, size= num_var_params), (state_prep_circuit, var_circuit_6qubit, grover_operator), 'COBYLA')\n",
    "optimisation_result = minimize(objective, optimisation_result.x, (state_prep_circuit, var_circuit_6qubit, grover_operator), 'BFGS')\n",
    "optimisation_result = minimize(objective, optimisation_result.x, (state_prep_circuit, var_circuit_6qubit, grover_operator), 'COBYLA')\n",
    "# optimisation_result = minimize(objective, optimisation_result.x, (state_prep_circuit, var_circuit_6qubit, grover_operator), 'COBYLA')\n",
    "print('params: ', optimisation_result.x)"
   ]
  },
  {
   "cell_type": "code",
   "execution_count": null,
   "metadata": {},
   "outputs": [],
   "source": [
    "optimal_params_6qubit = optimisation_result.x\n",
    "r = test_var_vs_grover(optimisation_result.x, state_prep_circuit, var_circuit_6qubit, grover_operator)\n",
    "plot_histogram_cmpr(r[0], figsize= (25,15))"
   ]
  },
  {
   "cell_type": "code",
   "execution_count": null,
   "metadata": {},
   "outputs": [],
   "source": [
    "r[2].draw()"
   ]
  },
  {
   "cell_type": "markdown",
   "metadata": {},
   "source": [
    "##### Alternate optimsation for 6 qubit case"
   ]
  },
  {
   "cell_type": "code",
   "execution_count": null,
   "metadata": {},
   "outputs": [],
   "source": [
    "def objective_6qubit():\n",
    "    "
   ]
  },
  {
   "cell_type": "code",
   "execution_count": null,
   "metadata": {},
   "outputs": [],
   "source": []
  }
 ],
 "metadata": {
  "kernelspec": {
   "display_name": "Python 3.10.4 64-bit",
   "language": "python",
   "name": "python3"
  },
  "language_info": {
   "codemirror_mode": {
    "name": "ipython",
    "version": 3
   },
   "file_extension": ".py",
   "mimetype": "text/x-python",
   "name": "python",
   "nbconvert_exporter": "python",
   "pygments_lexer": "ipython3",
   "version": "3.10.4"
  },
  "orig_nbformat": 4,
  "vscode": {
   "interpreter": {
    "hash": "31f2aee4e71d21fbe5cf8b01ff0e069b9275f58929596ceb00d14d90e3e16cd6"
   }
  }
 },
 "nbformat": 4,
 "nbformat_minor": 2
}
