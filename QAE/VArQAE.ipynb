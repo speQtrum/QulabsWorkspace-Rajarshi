{
 "cells": [
  {
   "cell_type": "code",
   "execution_count": 1,
   "metadata": {},
   "outputs": [],
   "source": [
    "## imports\n",
    "import numpy as np\n",
    "from numpy import pi\n",
    "import seaborn as sns\n",
    "from IPython.display import Image\n",
    "import matplotlib.pyplot as plt\n",
    "\n",
    "from scipy.optimize import minimize \n",
    "from scipy.interpolate import griddata\n",
    "import math\n",
    "from typing import Union"
   ]
  },
  {
   "cell_type": "code",
   "execution_count": 2,
   "metadata": {},
   "outputs": [],
   "source": [
    "## qiskit import\n",
    "from qiskit import *\n",
    "from qiskit.algorithms import *\n",
    "from qiskit import QuantumRegister, ClassicalRegister, QuantumCircuit\n",
    "from qiskit import quantum_info, IBMQ, Aer\n",
    "from qiskit import BasicAer, transpile\n",
    "from qiskit.utils import QuantumInstance\n",
    "from qiskit.quantum_info import Statevector, partial_trace\n",
    "from qiskit.circuit import Parameter, ParameterExpression, ParameterVector\n",
    "# backend = BasicAer.get_backend(\"statevector_simulator\")\n",
    "# quantum_instance = QuantumInstance(backend)\n",
    "from qiskit.algorithms import AmplitudeEstimation, EstimationProblem, AmplificationProblem, Grover, GroverResult, AmplitudeAmplifier\n",
    "from qiskit.circuit.library import LinearAmplitudeFunction, LinearPauliRotations, PiecewiseLinearPauliRotations, WeightedAdder, GroverOperator\n",
    "from qiskit_finance.circuit.library import LogNormalDistribution, NormalDistribution\n",
    "#from qiskit.ignis.verification.tomography import state_tomography_circuits, StateTomographyFitter\n",
    "from qiskit.visualization import plot_histogram, plot_state_qsphere, plot_bloch_multivector, plot_bloch_vector\n"
   ]
  },
  {
   "cell_type": "code",
   "execution_count": 5,
   "metadata": {},
   "outputs": [],
   "source": [
    "## IBM setup ~\n",
    "# IBMQ.save_account(\"1c62e8a0d2b058d0e797db9c811bc34582df5553e25812301cd1518662c0ab68d2378ac6c197b65f8be944d04b7e7439f034e3926a44fa8088538b3d13782c1a\", overwrite= True)\n",
    "provider = IBMQ.load_account()\n",
    "# IBMQ.get_provider(hub='ibm-q-education', group='iit-madras-1', project='quantum-computin')\n",
    "# setup required backends \n",
    "lima = provider.get_backend('ibmq_lima')\n",
    "# construct circuit for uncertainty modeler.get_backend('ibmq_lima')\n",
    "manila = provider.get_backend('ibmq_manila')\n",
    "qsm = Aer.get_backend('qasm_simulator')\n",
    "stv = Aer.get_backend('statevector_simulator')\n",
    "aer = Aer.get_backend('aer_simulator')"
   ]
  },
  {
   "cell_type": "code",
   "execution_count": 6,
   "metadata": {},
   "outputs": [],
   "source": [
    "## helper fucntions ~\n",
    "def str_to_oracle(pattern: str, name= 'oracle', return_type = \"QuantumCircuit\" ) -> Union[QuantumCircuit,  Statevector] :\n",
    "    \"\"\" Convert a given string to an oracle\n",
    "        input: pattern= a numpy vector with binarry entries \n",
    "        output: oracle_circuit    \"\"\"\n",
    "\n",
    "    l = len(pattern)\n",
    "    qr = QuantumRegister(l, name='reg')\n",
    "    a = AncillaRegister(1, name='ancilla')\n",
    "    oracle_circuit = QuantumCircuit(qr, a, name= name+str(pattern))\n",
    "    for q in range(l):\n",
    "        if(pattern[q]=='0'): oracle_circuit.x(qr[q])\n",
    "    oracle_circuit.x(a)\n",
    "    oracle_circuit.h(a)\n",
    "    oracle_circuit.mcx(qr, a)\n",
    "    oracle_circuit.h(a)\n",
    "    oracle_circuit.x(a)\n",
    "    for q in range(l):\n",
    "        if(pattern[q]=='0'): oracle_circuit.x(qr[q])\n",
    "    \n",
    "    #oracle_circuit.barrier()\n",
    "    if return_type == \"QuantumCircuit\":\n",
    "        return oracle_circuit\n"
   ]
  },
  {
   "cell_type": "markdown",
   "metadata": {},
   "source": [
    "## Variational Quantum Amplitude Estimation Algorithm \n",
    "Here we try to implement QAE based on variational quantum circuits as discussed in the paper <insert link >. "
   ]
  },
  {
   "cell_type": "markdown",
   "metadata": {},
   "source": [
    "### Step:\n",
    "Designning a variational circuit to implement $\\mathcal{Q}^k$ on a given initial state, where $\\mathcal{Q}$ is the grover operator composed as \n",
    "$ \\mathcal{Q} = - (\\mathbb{I} - 2 P_{\\psi_0})(\\mathbb{I} - 2 P_{good})$. The variational circuit will be constructed out of paramterised $R_y$ gates and $CX$ gates, as discussed in the original paper. "
   ]
  },
  {
   "cell_type": "markdown",
   "metadata": {},
   "source": [
    "For implementation we will use pre-defined functions such as  ```AmplificationProblem```, ```Grover``` , ```GroverOperator``` from ```qiskit.circuit.library``` and ```qiskit.algorithms``` module."
   ]
  },
  {
   "cell_type": "markdown",
   "metadata": {},
   "source": [
    "##### #2 qubit states"
   ]
  },
  {
   "cell_type": "code",
   "execution_count": 7,
   "metadata": {},
   "outputs": [],
   "source": [
    "## init ~\n",
    "good_states = ['10']\n",
    "n = len(good_states[0])\n",
    "initial_state = None\n",
    "\n",
    "## oracle prep ~\n",
    "oracles = [ str_to_oracle(good_state) for good_state in good_states ]\n",
    "oracle_circuit = oracles[0]\n",
    "for oracle in oracles[1:] :\n",
    "    oracle_circuit.compose(oracle,  inplace= True)\n",
    "\n",
    "## create grover operator ~\n",
    "grover_operator = GroverOperator(oracle_circuit, name= \"Grover\", insert_barriers= False)"
   ]
  },
  {
   "cell_type": "code",
   "execution_count": 8,
   "metadata": {},
   "outputs": [],
   "source": [
    "def state_prep_circuit(n):\n",
    "    qreg = QuantumRegister(n)\n",
    "    state_prep_circuit = QuantumCircuit(qreg, name = \"state_prep\")\n",
    "    state_prep_circuit.h(qreg)\n",
    "\n",
    "    return state_prep_circuit"
   ]
  },
  {
   "cell_type": "code",
   "execution_count": 9,
   "metadata": {},
   "outputs": [
    {
     "data": {
      "text/html": [
       "<pre style=\"word-wrap: normal;white-space: pre;background: #fff0;line-height: 1.1;font-family: &quot;Courier New&quot;,Courier,monospace\">      ┌───┐\n",
       "q0_0: ┤ H ├\n",
       "      ├───┤\n",
       "q0_1: ┤ H ├\n",
       "      └───┘</pre>"
      ],
      "text/plain": [
       "      ┌───┐\n",
       "q0_0: ┤ H ├\n",
       "      ├───┤\n",
       "q0_1: ┤ H ├\n",
       "      └───┘"
      ]
     },
     "execution_count": 9,
     "metadata": {},
     "output_type": "execute_result"
    }
   ],
   "source": [
    "state_prep_circuit(2).draw()"
   ]
  },
  {
   "cell_type": "code",
   "execution_count": 10,
   "metadata": {},
   "outputs": [],
   "source": [
    "## variational circuit preparation ~\n",
    "def var_prep_circuit(n , var_params_input= 'random' , num_var_params= 4):\n",
    "\n",
    "    qreg = QuantumRegister(n, name= 'qreg')\n",
    "    var_circuit = QuantumCircuit(qreg, name= \"Var_\"+str(n))\n",
    "    \n",
    "    if var_params_input == 'random' : var_params = np.random.uniform(low= 0, high= 2*pi, size= num_var_params)\n",
    "    else: var_params = var_params_input\n",
    "    \n",
    "    var_circuit.ry(var_params[0], qreg[1] )\n",
    "    var_circuit.cx(1,0)\n",
    "    var_circuit.ry(var_params[1], qreg[1])\n",
    "    var_circuit.ry(var_params[2], qreg[0])\n",
    "    var_circuit.cx(1,0)\n",
    "    var_circuit.ry(var_params[3], qreg[1])\n",
    "\n",
    "    return var_circuit\n"
   ]
  },
  {
   "cell_type": "code",
   "execution_count": 15,
   "metadata": {},
   "outputs": [
    {
     "data": {
      "text/plain": [
       "3"
      ]
     },
     "execution_count": 15,
     "metadata": {},
     "output_type": "execute_result"
    }
   ],
   "source": []
  },
  {
   "cell_type": "code",
   "execution_count": 11,
   "metadata": {},
   "outputs": [
    {
     "data": {
      "text/plain": [
       "(                      ┌───┐┌────────────┐┌───┐              \n",
       " qreg_0: ──────────────┤ X ├┤ Ry(5.7037) ├┤ X ├──────────────\n",
       "         ┌────────────┐└─┬─┘├────────────┤└─┬─┘┌────────────┐\n",
       " qreg_1: ┤ Ry(5.0109) ├──■──┤ Ry(5.4405) ├──■──┤ Ry(4.2415) ├\n",
       "         └────────────┘     └────────────┘     └────────────┘,\n",
       "          ┌────┐\n",
       " state_0: ┤0   ├\n",
       "          │    │\n",
       " state_1: ┤1 Q ├\n",
       "          │    │\n",
       " ancilla: ┤2   ├\n",
       "          └────┘)"
      ]
     },
     "execution_count": 11,
     "metadata": {},
     "output_type": "execute_result"
    }
   ],
   "source": [
    "var_prep_circuit(2).draw(), grover_operator.draw()"
   ]
  },
  {
   "cell_type": "code",
   "execution_count": 12,
   "metadata": {},
   "outputs": [],
   "source": [
    "## optimisation step ~\n",
    "def objective(var_params , state_prep_circuit , var_prep_circuit,  grover_circuit, shots= 1024):\n",
    "    \n",
    "    num_state_qubits = grover_circuit.num_qubits - grover_circuit.num_ancillas\n",
    "    qc = state_prep_circuit(num_state_qubits)\n",
    "    state_prep_circuit_var = qc.copy()\n",
    "    state_prep_circuit_grover = qc.copy()\n",
    "\n",
    "    ## var ~\n",
    "    var_circuit = var_prep_circuit(num_state_qubits, var_params_input= var_params )\n",
    "    state_prep_circuit_var.compose( var_circuit, inplace= True )\n",
    "    \n",
    "    ## grover ~\n",
    "    num_ancillas=  grover_circuit.num_ancillas\n",
    "    ancilla = AncillaRegister(num_ancillas, name= 'ancilla')\n",
    "    state_prep_circuit_grover.add_register(ancilla)\n",
    "    state_prep_circuit_grover.compose( grover_circuit, inplace= True)\n",
    "\n",
    "    ## measure fidelity using 'Statevector' method ~\n",
    "    var_statevector = Statevector.from_instruction(state_prep_circuit_var)\n",
    "    grover_statevector = partial_trace(Statevector.from_instruction(state_prep_circuit_grover), [2] ).to_statevector()\n",
    "    \n",
    "    fidelity = np.real(var_statevector.inner(grover_statevector))\n",
    "\n",
    "    return fidelity"
   ]
  },
  {
   "cell_type": "code",
   "execution_count": 13,
   "metadata": {},
   "outputs": [
    {
     "name": "stderr",
     "output_type": "stream",
     "text": [
      "/tmp/ipykernel_22642/1409384494.py:7: FutureWarning: elementwise comparison failed; returning scalar instead, but in the future will perform elementwise comparison\n",
      "  if var_params_input == 'random' : var_params = np.random.uniform(low= 0, high= 2*pi, size= num_var_params)\n"
     ]
    }
   ],
   "source": [
    "num_var_params = 4\n",
    "var_params = np.random.uniform(low= 0, high= 2*pi, size= num_var_params)\n",
    "optimisation_result = minimize(objective, var_params, (state_prep_circuit, var_prep_circuit, grover_operator), 'COBYLA')"
   ]
  },
  {
   "cell_type": "code",
   "execution_count": 14,
   "metadata": {},
   "outputs": [
    {
     "data": {
      "text/plain": [
       "     fun: -0.9999999993977822\n",
       "   maxcv: 0.0\n",
       " message: 'Optimization terminated successfully.'\n",
       "    nfev: 71\n",
       "  status: 1\n",
       " success: True\n",
       "       x: array([4.72224052, 3.13173435, 4.71235071, 3.14165017])"
      ]
     },
     "execution_count": 14,
     "metadata": {},
     "output_type": "execute_result"
    }
   ],
   "source": [
    "optimisation_result"
   ]
  },
  {
   "cell_type": "code",
   "execution_count": 28,
   "metadata": {},
   "outputs": [],
   "source": [
    "def test_var_vs_grover(var_params , state_prep_circuit , var_prep_circuit,  grover_operator, shots= 1024):\n",
    "    \"\"\" fucntion to compare the performace of the varriational circuit with the grover circuit \"\"\"\n",
    "    \n",
    "    num_state_qubits = grover_operator.num_qubits - grover_operator.num_ancillas\n",
    "    creg = ClassicalRegister(num_state_qubits, name= 'creg' )\n",
    "\n",
    "    qc = state_prep_circuit(num_state_qubits)\n",
    "    state_prep_circuit_var = qc.copy()\n",
    "    state_prep_circuit_grover = qc.copy()\n",
    "\n",
    "    ## var ~\n",
    "    var_circuit = var_prep_circuit(num_state_qubits, var_params_input= var_params )\n",
    "    state_prep_circuit_var.compose( var_circuit, inplace= True )\n",
    "    state_prep_circuit_var.measure_all()\n",
    "\n",
    "    var_counts = execute(state_prep_circuit_var, backend= qsm, shots= 1024).result().get_counts()\n",
    "\n",
    "    ## grover ~\n",
    "    num_ancillas=  grover_operator.num_ancillas\n",
    "    qreg_grover = QuantumRegister(num_state_qubits, name= 'qreg')\n",
    "    state_prep_circuit_grover = QuantumCircuit(qreg_grover).compose(state_prep_circuit_grover)\n",
    "    ancilla = AncillaRegister(num_ancillas, name= 'ancilla')\n",
    "    creg = ClassicalRegister(num_state_qubits, name= 'creg')\n",
    "    state_prep_circuit_grover.add_register(ancilla)\n",
    "    state_prep_circuit_grover.add_register(creg)\n",
    "    state_prep_circuit_grover.compose( grover_operator, inplace= True)\n",
    "    state_prep_circuit_grover.measure(qreg_grover, creg )\n",
    "\n",
    "    grover_counts = execute(state_prep_circuit_grover, backend= qsm, shots= 1024).result().get_counts()\n",
    "\n",
    "    ## plot histogram ~\n",
    "    return plot_histogram([grover_counts, var_counts], figsize= (15,8), legend= ['grover', 'variatonal'], title= 'Comparison')\n"
   ]
  },
  {
   "cell_type": "code",
   "execution_count": 29,
   "metadata": {},
   "outputs": [
    {
     "name": "stderr",
     "output_type": "stream",
     "text": [
      "/tmp/ipykernel_22642/1409384494.py:7: FutureWarning: elementwise comparison failed; returning scalar instead, but in the future will perform elementwise comparison\n",
      "  if var_params_input == 'random' : var_params = np.random.uniform(low= 0, high= 2*pi, size= num_var_params)\n"
     ]
    },
    {
     "data": {
      "image/png": "[encoded data removed]",
      "text/plain": [
       "<Figure size 1080x576 with 1 Axes>"
      ]
     },
     "execution_count": 29,
     "metadata": {},
     "output_type": "execute_result"
    }
   ],
   "source": [
    "test_var_vs_grover(optimisation_result.x, state_prep_circuit, var_prep_circuit, grover_operator)"
   ]
  },
  {
   "cell_type": "code",
   "execution_count": 9,
   "metadata": {},
   "outputs": [
    {
     "data": {
      "image/png": "[encoded data removed]",
      "text/plain": [
       "<Figure size 504x360 with 1 Axes>"
      ]
     },
     "execution_count": 9,
     "metadata": {},
     "output_type": "execute_result"
    }
   ],
   "source": [
    "creg = ClassicalRegister(2,name= 'creg_grover')\n",
    "grover_operator.add_register(creg)\n",
    "grover_operator.measure(0, creg[0])\n",
    "grover_operator.measure(1, creg[1])\n",
    "plot_histogram(execute(grover_operator, backend= qsm ).result().get_counts())\n"
   ]
  },
  {
   "cell_type": "markdown",
   "metadata": {},
   "source": [
    "#### #6 qubit states"
   ]
  },
  {
   "cell_type": "code",
   "execution_count": 7,
   "metadata": {},
   "outputs": [],
   "source": [
    "## variational circuit preparation ~\n",
    "n_state = len(good_states[0])\n",
    "qc  = QuantumCircuit(n_state) "
   ]
  },
  {
   "cell_type": "code",
   "execution_count": null,
   "metadata": {},
   "outputs": [],
   "source": []
  },
  {
   "cell_type": "code",
   "execution_count": null,
   "metadata": {},
   "outputs": [],
   "source": []
  },
  {
   "cell_type": "code",
   "execution_count": 8,
   "metadata": {},
   "outputs": [
    {
     "data": {
      "text/html": [
       "<pre style=\"word-wrap: normal;white-space: pre;background: #fff0;line-height: 1.1;font-family: &quot;Courier New&quot;,Courier,monospace\">global phase: π\n",
       "                        ┌───┐┌───┐               ┌───┐┌───┐     \n",
       "state_0: ────────────■──┤ H ├┤ X ├────────────■──┤ X ├┤ H ├─────\n",
       "         ┌───┐       │  ├───┤├───┤┌───┐┌───┐┌─┴─┐├───┤├───┤┌───┐\n",
       "state_1: ┤ X ├───────■──┤ X ├┤ H ├┤ X ├┤ H ├┤ X ├┤ H ├┤ X ├┤ H ├\n",
       "         ├───┤┌───┐┌─┴─┐├───┤├───┤└───┘└───┘└───┘└───┘└───┘└───┘\n",
       "ancilla: ┤ X ├┤ H ├┤ X ├┤ H ├┤ X ├──────────────────────────────\n",
       "         └───┘└───┘└───┘└───┘└───┘                              </pre>"
      ],
      "text/plain": [
       "global phase: π\n",
       "                        ┌───┐┌───┐               ┌───┐┌───┐     \n",
       "state_0: ────────────■──┤ H ├┤ X ├────────────■──┤ X ├┤ H ├─────\n",
       "         ┌───┐       │  ├───┤├───┤┌───┐┌───┐┌─┴─┐├───┤├───┤┌───┐\n",
       "state_1: ┤ X ├───────■──┤ X ├┤ H ├┤ X ├┤ H ├┤ X ├┤ H ├┤ X ├┤ H ├\n",
       "         ├───┤┌───┐┌─┴─┐├───┤├───┤└───┘└───┘└───┘└───┘└───┘└───┘\n",
       "ancilla: ┤ X ├┤ H ├┤ X ├┤ H ├┤ X ├──────────────────────────────\n",
       "         └───┘└───┘└───┘└───┘└───┘                              "
      ]
     },
     "execution_count": 8,
     "metadata": {},
     "output_type": "execute_result"
    }
   ],
   "source": [
    "grover_operator.decompose().draw()"
   ]
  },
  {
   "cell_type": "code",
   "execution_count": null,
   "metadata": {},
   "outputs": [],
   "source": []
  }
 ],
 "metadata": {
  "kernelspec": {
   "display_name": "Python 3.10.4 64-bit",
   "language": "python",
   "name": "python3"
  },
  "language_info": {
   "codemirror_mode": {
    "name": "ipython",
    "version": 3
   },
   "file_extension": ".py",
   "mimetype": "text/x-python",
   "name": "python",
   "nbconvert_exporter": "python",
   "pygments_lexer": "ipython3",
   "version": "3.10.4"
  },
  "orig_nbformat": 4,
  "vscode": {
   "interpreter": {
    "hash": "31f2aee4e71d21fbe5cf8b01ff0e069b9275f58929596ceb00d14d90e3e16cd6"
   }
  }
 },
 "nbformat": 4,
 "nbformat_minor": 2
}
