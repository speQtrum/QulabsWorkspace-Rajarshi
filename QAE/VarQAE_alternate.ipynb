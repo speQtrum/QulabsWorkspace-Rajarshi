{
 "cells": [
  {
   "cell_type": "code",
   "execution_count": 1,
   "metadata": {},
   "outputs": [],
   "source": [
    "## imports\n",
    "import numpy as np\n",
    "from numpy import pi\n",
    "import seaborn as sns\n",
    "from IPython.display import Image\n",
    "import matplotlib.pyplot as plt\n",
    "\n",
    "from scipy.optimize import minimize \n",
    "from scipy.interpolate import griddata\n",
    "import math\n",
    "from typing import Union"
   ]
  },
  {
   "cell_type": "code",
   "execution_count": 2,
   "metadata": {},
   "outputs": [],
   "source": [
    "## qiskit import\n",
    "from qiskit import *\n",
    "from qiskit.algorithms import *\n",
    "from qiskit import QuantumRegister, ClassicalRegister, QuantumCircuit\n",
    "from qiskit import quantum_info, IBMQ, Aer\n",
    "from qiskit import BasicAer, transpile\n",
    "from qiskit.utils import QuantumInstance\n",
    "from qiskit.quantum_info import Statevector, partial_trace , DensityMatrix\n",
    "from qiskit.circuit import Parameter, ParameterExpression, ParameterVector\n",
    "# backend = BasicAer.get_backend(\"statevector_simulator\")\n",
    "# quantum_instance = QuantumInstance(backend)\n",
    "from qiskit.algorithms import optimizers, AmplitudeEstimation, EstimationProblem, AmplificationProblem, Grover, GroverResult, AmplitudeAmplifier\n",
    "from qiskit.circuit.library import LinearAmplitudeFunction, LinearPauliRotations, PiecewiseLinearPauliRotations, WeightedAdder, GroverOperator\n",
    "from qiskit_finance.circuit.library import LogNormalDistribution, NormalDistribution\n",
    "#from qiskit.ignis.verification.tomography import state_tomography_circuits, StateTomographyFitter\n",
    "from qiskit.visualization import plot_histogram, plot_state_qsphere, plot_bloch_multivector, plot_bloch_vector\n"
   ]
  },
  {
   "cell_type": "code",
   "execution_count": 3,
   "metadata": {},
   "outputs": [],
   "source": [
    "qsm = Aer.get_backend('qasm_simulator')\n",
    "stv = Aer.get_backend('statevector_simulator')\n",
    "aer = Aer.get_backend('aer_simulator')"
   ]
  },
  {
   "cell_type": "code",
   "execution_count": null,
   "metadata": {},
   "outputs": [],
   "source": []
  }
 ],
 "metadata": {
  "kernelspec": {
   "display_name": "Python 3.10.4 64-bit",
   "language": "python",
   "name": "python3"
  },
  "language_info": {
   "codemirror_mode": {
    "name": "ipython",
    "version": 3
   },
   "file_extension": ".py",
   "mimetype": "text/x-python",
   "name": "python",
   "nbconvert_exporter": "python",
   "pygments_lexer": "ipython3",
   "version": "3.10.4"
  },
  "orig_nbformat": 4,
  "vscode": {
   "interpreter": {
    "hash": "31f2aee4e71d21fbe5cf8b01ff0e069b9275f58929596ceb00d14d90e3e16cd6"
   }
  }
 },
 "nbformat": 4,
 "nbformat_minor": 2
}
