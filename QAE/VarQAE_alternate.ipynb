{
 "cells": [
  {
   "cell_type": "code",
   "execution_count": 1,
   "metadata": {},
   "outputs": [],
   "source": [
    "%run qae_utils.py\n",
    "from qae_utils import *\n",
    "from qae_utils import state_preparation_ansatz\n",
    "from typing import Iterable, Optional, Union\n",
    "from scipy.optimize import minimize\n",
    "from qiskit import *\n",
    "from qiskit import execute"
   ]
  },
  {
   "cell_type": "code",
   "execution_count": 12,
   "metadata": {},
   "outputs": [],
   "source": [
    "global verbose\n",
    "verbose = True"
   ]
  },
  {
   "cell_type": "markdown",
   "metadata": {},
   "source": [
    "#### #Phase0"
   ]
  },
  {
   "cell_type": "code",
   "execution_count": 15,
   "metadata": {},
   "outputs": [
    {
     "ename": "NameError",
     "evalue": "name 'execute' is not defined",
     "output_type": "error",
     "traceback": [
      "\u001b[0;31m---------------------------------------------------------------------------\u001b[0m",
      "\u001b[0;31mNameError\u001b[0m                                 Traceback (most recent call last)",
      "\u001b[1;32m/home/rajarsi/Documents/GitHub/QulabsWorkspace/QAE/VarQAE_alternate.ipynb Cell 5\u001b[0m in \u001b[0;36m<cell line: 1>\u001b[0;34m()\u001b[0m\n\u001b[0;32m----> <a href='vscode-notebook-cell:/home/rajarsi/Documents/GitHub/QulabsWorkspace/QAE/VarQAE_alternate.ipynb#W5sZmlsZQ%3D%3D?line=0'>1</a>\u001b[0m qpe(\u001b[39m0.25\u001b[39;49m), qpe(\u001b[39m0.25\u001b[39m, trainable\u001b[39m=\u001b[39m \u001b[39mTrue\u001b[39;00m, p_param\u001b[39m=\u001b[39m \u001b[39m0.25\u001b[39m)\n",
      "File \u001b[0;32m~/Documents/GitHub/QulabsWorkspace/QAE/qae_utils.py:262\u001b[0m, in \u001b[0;36mqpe\u001b[0;34m(p, trainable, p_param, precision, no_estimates)\u001b[0m\n\u001b[1;32m    260\u001b[0m qc\u001b[39m.\u001b[39mmeasure(preg, creg)\n\u001b[1;32m    261\u001b[0m shots \u001b[39m=\u001b[39m \u001b[39m2000\u001b[39m\n\u001b[0;32m--> 262\u001b[0m job \u001b[39m=\u001b[39m execute(qc, backend\u001b[39m=\u001b[39m aer, shots\u001b[39m=\u001b[39m shots)\n\u001b[1;32m    263\u001b[0m counts \u001b[39m=\u001b[39m job\u001b[39m.\u001b[39mresult()\u001b[39m.\u001b[39mget_counts()\n\u001b[1;32m    265\u001b[0m \u001b[39m# no_estimates= 5\u001b[39;00m\n",
      "\u001b[0;31mNameError\u001b[0m: name 'execute' is not defined"
     ]
    }
   ],
   "source": [
    "qpe(0.25), qpe(0.25, trainable= True, p_param= 0.25)"
   ]
  },
  {
   "cell_type": "code",
   "execution_count": 6,
   "metadata": {},
   "outputs": [
    {
     "name": "stdout",
     "output_type": "stream",
     "text": [
      "inside-> to_minimize\n",
      "inside-> qpe\n",
      " 'p'=   0.2\n",
      " 'p_param'=  0.24\n",
      "ourside-> qpe, p_est 0.23110780748033713\n",
      "cost  [7.90710878e-05]\n",
      "inside-> to_minimize\n",
      "inside-> qpe\n",
      " 'p'=   0.2\n",
      " 'p_param'=  0.252\n",
      "ourside-> qpe, p_est 0.25196112424756056\n",
      "cost  [1.51132413e-09]\n",
      "inside-> to_minimize\n",
      "inside-> qpe\n",
      " 'p'=   0.2\n",
      " 'p_param'=  0.264\n",
      "ourside-> qpe, p_est 0.27268432216212385\n",
      "cost  [7.54174514e-05]\n",
      "inside-> to_minimize\n",
      "inside-> qpe\n",
      " 'p'=   0.2\n",
      " 'p_param'=  0.258\n",
      "ourside-> qpe, p_est 0.26361983359248137\n",
      "cost  [3.15825296e-05]\n",
      "inside-> to_minimize\n",
      "inside-> qpe\n",
      " 'p'=   0.2\n",
      " 'p_param'=  0.246\n",
      "ourside-> qpe, p_est 0.23831954450323065\n",
      "cost  [5.89893966e-05]\n",
      "inside-> to_minimize\n",
      "inside-> qpe\n",
      " 'p'=   0.2\n",
      " 'p_param'=  0.255\n",
      "ourside-> qpe, p_est 0.2582073541804409\n",
      "cost  [1.02871208e-05]\n",
      "inside-> to_minimize\n",
      "inside-> qpe\n",
      " 'p'=   0.2\n",
      " 'p_param'=  0.249\n",
      "ourside-> qpe, p_est 0.25029731977205455\n",
      "cost  [1.68303859e-06]\n",
      "inside-> to_minimize\n",
      "inside-> qpe\n",
      " 'p'=   0.2\n",
      " 'p_param'=  0.2505\n",
      "ourside-> qpe, p_est 0.24923585775643048\n",
      "cost  [1.59805561e-06]\n",
      "inside-> to_minimize\n",
      "inside-> qpe\n",
      " 'p'=   0.2\n",
      " 'p_param'=  0.2535\n",
      "ourside-> qpe, p_est 0.2585701491958264\n",
      "cost  [2.57064129e-05]\n",
      "inside-> to_minimize\n",
      "inside-> qpe\n",
      " 'p'=   0.2\n",
      " 'p_param'=  0.25125\n",
      "ourside-> qpe, p_est 0.25489486205546413\n",
      "cost  [1.32850194e-05]\n",
      "inside-> to_minimize\n",
      "inside-> qpe\n",
      " 'p'=   0.2\n",
      " 'p_param'=  0.25125\n",
      "ourside-> qpe, p_est 0.25682523888311504\n",
      "cost  [3.10832886e-05]\n",
      "inside-> to_minimize\n",
      "inside-> qpe\n",
      " 'p'=   0.2\n",
      " 'p_param'=  0.25275000000000003\n",
      "ourside-> qpe, p_est 0.2557729790201619\n",
      "cost  [9.13840216e-06]\n",
      "inside-> to_minimize\n",
      "inside-> qpe\n",
      " 'p'=   0.2\n",
      " 'p_param'=  0.252375\n",
      "ourside-> qpe, p_est 0.2539567168280654\n",
      "cost  [2.50182812e-06]\n",
      "inside-> to_minimize\n",
      "inside-> qpe\n",
      " 'p'=   0.2\n",
      " 'p_param'=  0.251625\n",
      "ourside-> qpe, p_est 0.25507496025889204\n",
      "cost  [1.19022258e-05]\n",
      "inside-> to_minimize\n",
      "inside-> qpe\n",
      " 'p'=   0.2\n",
      " 'p_param'=  0.2521875\n",
      "ourside-> qpe, p_est 0.25378514395281154\n",
      "cost  [2.5524662e-06]\n",
      "inside-> to_minimize\n",
      "inside-> qpe\n",
      " 'p'=   0.2\n",
      " 'p_param'=  0.2521875\n",
      "ourside-> qpe, p_est 0.25337533780993365\n",
      "cost  [1.41095866e-06]\n",
      "inside-> to_minimize\n",
      "inside-> qpe\n",
      " 'p'=   0.2\n",
      " 'p_param'=  0.2518125\n",
      "ourside-> qpe, p_est 0.2551153283701218\n",
      "cost  [1.09086752e-05]\n",
      "inside-> to_minimize\n",
      "inside-> qpe\n",
      " 'p'=   0.2\n",
      " 'p_param'=  0.25209375\n",
      "ourside-> qpe, p_est 0.2547248874246022\n",
      "cost  [6.92288415e-06]\n",
      "inside-> to_minimize\n",
      "inside-> qpe\n",
      " 'p'=   0.2\n",
      " 'p_param'=  0.25209375\n",
      "ourside-> qpe, p_est 0.2557036399153324\n",
      "cost  [1.30313052e-05]\n"
     ]
    }
   ],
   "source": [
    "p_guess = 0.24\n",
    "p= 0.25\n",
    "\n",
    "r = minimize(to_minimize, p_guess, method= 'Nelder-Mead')"
   ]
  },
  {
   "cell_type": "code",
   "execution_count": 7,
   "metadata": {},
   "outputs": [
    {
     "name": "stdout",
     "output_type": "stream",
     "text": [
      "inside-> qpe\n",
      " 'p'=   0.25\n",
      "inside-> qpe\n",
      " 'p'=   0.25\n",
      " 'p_param'=  0.252\n"
     ]
    },
    {
     "data": {
      "text/plain": [
       "(0.248324447925864, 0.2559669994488036)"
      ]
     },
     "execution_count": 7,
     "metadata": {},
     "output_type": "execute_result"
    }
   ],
   "source": [
    "qpe(0.25), qpe(0.25, trainable= True, p_param= r.x[0])"
   ]
  },
  {
   "cell_type": "code",
   "execution_count": 26,
   "metadata": {},
   "outputs": [
    {
     "data": {
      "text/plain": [
       "0.2511381850103768"
      ]
     },
     "execution_count": 26,
     "metadata": {},
     "output_type": "execute_result"
    }
   ],
   "source": [
    "p_est"
   ]
  },
  {
   "cell_type": "markdown",
   "metadata": {},
   "source": [
    "#### #Phase1\n",
    "Prepare PQC to assist the state perparation circuit to be used inside the Grover Operator, $ \\mathcal{\\hat{Q}_{\\beta}} $, where $\\beta$ in the set of trainable paramters. (** For single qubit states only; oracle $\\mathcal{\\hat{O}_{\\ket{1}}} = \\hat{Z}$ and $\\mathcal{\\hat{O}_{\\ket{0}}} = -\\hat{Z}$ ).\n",
    "\n",
    "$$ \\mathcal{\\hat{Q}_{\\beta}} =  (\\mathbb{\\hat{I}} - 2 \\ket{\\tilde{\\psi_0}(\\beta)} \\bra{\\tilde{\\psi_0}(\\beta)} ) \\: \\mathcal{\\hat{O}}\n",
    "$$\n",
    "\n",
    "Here the $\\ket{\\tilde{\\psi_0}(\\beta)}$ is approximated initial state and is prepard using the PQC as \n",
    "$$      \\ket{\\tilde{\\psi_0}(\\beta)}\\ket{\\Gamma_{\\beta}} = \\mathcal{\\hat{P}_{\\beta}} ( \\ket{0} \\ket{\\Gamma} )\n",
    "$$\n",
    "where $\\Gamma$ denotes the ancilla qubits, and $\\mathcal{\\hat{P}_{\\beta}}$ denotes the paramterised quantum circuit."
   ]
  },
  {
   "cell_type": "code",
   "execution_count": 5,
   "metadata": {},
   "outputs": [
    {
     "data": {
      "text/plain": [
       "<qiskit.circuit.instructionset.InstructionSet at 0x7f9142f50640>"
      ]
     },
     "execution_count": 5,
     "metadata": {},
     "output_type": "execute_result"
    }
   ],
   "source": [
    "num_ancillas = 5\n",
    "\n",
    "params_state = np.random.uniform(low=0, high= 2*pi, size= 2)\n",
    "params_ancilla= np.random.uniform(low=0, high= 2*pi, size= 2*num_ancillas )\n",
    "\n",
    "qreg = QuantumRegister(1, name= 'q')\n",
    "ancillas = AncillaRegister(num_ancillas, name= 'ancilla')\n",
    "qc = QuantumCircuit(qreg, ancillas)\n",
    "\n",
    "## set_ansatz ~\n",
    "qc.ry(params_state[0], qreg)\n",
    "qc.cx(qreg, ancillas[0])\n",
    "\n",
    "for index, ancilla in list(enumerate(ancillas))  :\n",
    "    qc.ry(params_ancilla[index], ancilla)\n",
    "    qc.cx(ancillas[index], ancillas[(index+1)%(num_ancillas)])\n",
    "qc.barrier()\n",
    "for index, ancilla in list(reversed(list(enumerate(ancillas))))  :\n",
    "    qc.ry(params_ancilla[index], ancilla)\n",
    "    qc.cx(ancillas[index], ancillas[(index-1)%(num_ancillas)])\n",
    "\n",
    "qc.cx( ancillas[0], qreg)\n",
    "qc.ry(params_state[1], qreg)\n"
   ]
  },
  {
   "cell_type": "code",
   "execution_count": 3,
   "metadata": {},
   "outputs": [
    {
     "data": {
      "text/plain": [
       "array([2.67784083, 4.75015738, 3.1077421 , 4.46347088, 3.92485517,\n",
       "       0.84471368, 3.89729513, 0.28942448, 0.57022011, 2.01124589,\n",
       "       6.14378945, 0.62666572, 0.87258928, 5.0530281 , 1.51556572,\n",
       "       1.47831417, 4.59569722, 1.29013619, 1.00406628, 1.40327995,\n",
       "       1.10410359, 1.05707366])"
      ]
     },
     "execution_count": 3,
     "metadata": {},
     "output_type": "execute_result"
    }
   ],
   "source": [
    "pqc = state_preparation_ansatz(5, name= 'a', insert_barrier= True)\n",
    "pqc.initialize(params= 'random')\n",
    "# pqc.draw(output='mpl')\n",
    "\n",
    "params = np.random.uniform(low= 0, high= 2 * pi, size= pqc.num_params)"
   ]
  },
  {
   "cell_type": "code",
   "execution_count": null,
   "metadata": {},
   "outputs": [],
   "source": []
  },
  {
   "cell_type": "code",
   "execution_count": null,
   "metadata": {},
   "outputs": [],
   "source": [
    "gr_op = GroverOperator(oracle, state_preparation= state_preparation_circuit, insert_barriers= True)"
   ]
  },
  {
   "cell_type": "code",
   "execution_count": null,
   "metadata": {},
   "outputs": [],
   "source": []
  },
  {
   "cell_type": "code",
   "execution_count": null,
   "metadata": {},
   "outputs": [],
   "source": []
  },
  {
   "cell_type": "code",
   "execution_count": null,
   "metadata": {},
   "outputs": [],
   "source": []
  },
  {
   "cell_type": "code",
   "execution_count": null,
   "metadata": {},
   "outputs": [],
   "source": []
  },
  {
   "cell_type": "code",
   "execution_count": null,
   "metadata": {},
   "outputs": [],
   "source": []
  },
  {
   "cell_type": "code",
   "execution_count": null,
   "metadata": {},
   "outputs": [],
   "source": []
  },
  {
   "cell_type": "code",
   "execution_count": null,
   "metadata": {},
   "outputs": [],
   "source": []
  },
  {
   "cell_type": "code",
   "execution_count": null,
   "metadata": {},
   "outputs": [],
   "source": []
  }
 ],
 "metadata": {
  "kernelspec": {
   "display_name": "Python 3.10.4 64-bit",
   "language": "python",
   "name": "python3"
  },
  "language_info": {
   "codemirror_mode": {
    "name": "ipython",
    "version": 3
   },
   "file_extension": ".py",
   "mimetype": "text/x-python",
   "name": "python",
   "nbconvert_exporter": "python",
   "pygments_lexer": "ipython3",
   "version": "3.10.4"
  },
  "orig_nbformat": 4,
  "vscode": {
   "interpreter": {
    "hash": "31f2aee4e71d21fbe5cf8b01ff0e069b9275f58929596ceb00d14d90e3e16cd6"
   }
  }
 },
 "nbformat": 4,
 "nbformat_minor": 2
}
