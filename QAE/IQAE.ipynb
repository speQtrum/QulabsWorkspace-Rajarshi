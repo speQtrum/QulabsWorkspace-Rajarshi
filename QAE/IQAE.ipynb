{
 "cells": [
  {
   "cell_type": "code",
   "execution_count": 3,
   "metadata": {},
   "outputs": [],
   "source": [
    "## imports\n",
    "from qiskit import *\n",
    "from qiskit.algorithms import *\n",
    "from qiskit import QuantumRegister, ClassicalRegister, QuantumCircuit\n",
    "from qiskit import quantum_info, IBMQ, Aer\n",
    "from qiskit import BasicAer\n",
    "from qiskit.utils import QuantumInstance\n",
    "# backend = BasicAer.get_backend(\"statevector_simulator\")\n",
    "# quantum_instance = QuantumInstance(backend)\n",
    "from qiskit.algorithms import AmplitudeEstimation\n",
    "#from qiskit.ignis.verification.tomography import state_tomography_circuits, StateTomographyFitter\n",
    "from qiskit.visualization import plot_histogram, plot_state_qsphere, plot_bloch_multivector, plot_bloch_vector\n",
    "import numpy as np\n",
    "from numpy import pi\n",
    "import seaborn as sns\n",
    "from IPython.display import Image\n",
    "import matplotlib.pyplot as plt\n",
    "import math\n"
   ]
  },
  {
   "cell_type": "code",
   "execution_count": 4,
   "metadata": {},
   "outputs": [
    {
     "name": "stderr",
     "output_type": "stream",
     "text": [
      "ibmqfactory.load_account:WARNING:2022-07-20 08:07:22,332: Credentials are already in use. The existing account in the session will be replaced.\n"
     ]
    }
   ],
   "source": [
    "# setup simulator using IBM_id\n",
    "# IBMQ.save_account(\"1c62e8a0d2b058d0e797db9c811bc34582df5553e25812301cd1518662c0ab68d2378ac6c197b65f8be944d04b7e7439f034e3926a44fa8088538b3d13782c1a\", overwrite= True)\n",
    "provider = IBMQ.load_account()\n",
    "IBMQ.get_provider(hub='ibm-q-education', group='iit-madras-1', project='quantum-computin')\n",
    "# setup required backends \n",
    "lima = provider.get_backend('ibmq_lima')\n",
    "manila = provider.get_backend('ibmq_manila')\n",
    "qsm = Aer.get_backend('qasm_simulator')\n",
    "stv = Aer.get_backend('statevector_simulator')\n",
    "aer = Aer.get_backend('aer_simulator')\n"
   ]
  },
  {
   "cell_type": "markdown",
   "metadata": {},
   "source": [
    "##### Grover Operator Setup"
   ]
  },
  {
   "cell_type": "code",
   "execution_count": 5,
   "metadata": {},
   "outputs": [],
   "source": [
    "## sub-routines for Grover Search ~\n",
    "def to_oracle(pattern, name= 'oracle'):\n",
    "    \"\"\" Convert a given pattern to an oracle\n",
    "        input: pattern= a numpy vector with binarry entries \n",
    "        output: oracle.Gate    \"\"\"\n",
    "\n",
    "    l = len(pattern)\n",
    "    qr = QuantumRegister(l, name='reg')\n",
    "    a = AncillaRegister(1, name='ancilla')\n",
    "    qc = QuantumCircuit(qr, a, name= name+str(pattern))\n",
    "    for q in range(l):\n",
    "        if(pattern[q]==0): qc.x(qr[q])\n",
    "    qc.x(a)\n",
    "    qc.h(a)\n",
    "    qc.mcx(qr, a)\n",
    "    qc.h(a)\n",
    "    qc.x(a)\n",
    "    for q in range(l):\n",
    "        if(pattern[q]==0): qc.x(qr[q])\n",
    "    #qc.barrier()\n",
    "    return qc.to_gate()\n",
    "\n",
    "def diffuser(l):\n",
    "    \"\"\" Gnerate the Diffuser operator for the case where the initial state  is \n",
    "        the equal superposition state of all basis vectors \n",
    "        input: l= no. of qubits\n",
    "        output: diffuser.Gate    \"\"\"\n",
    "    qr = QuantumRegister(l, name='reg')\n",
    "    a = AncillaRegister(1, name='ancilla')\n",
    "    circuit = QuantumCircuit(qr, a, name= 'Diff.')\n",
    "    \n",
    "    circuit.h(qr)\n",
    "    circuit.x(qr)\n",
    "    \n",
    "    circuit.x(a)\n",
    "    circuit.h(a)\n",
    "    circuit.mcx(qr ,a)\n",
    "    circuit.h(a)\n",
    "    circuit.x(a)\n",
    "\n",
    "    circuit.x(qr)\n",
    "    circuit.h(qr)\n",
    "          \n",
    "    return circuit.to_gate()\n",
    "\n",
    "def grover_iterate(qc, oracles, diffuser, qreg_u, ancilla, steps):\n",
    "    \"\"\" Run full Grover iteration for given number of steps.\n",
    "        input:\n",
    "        qc: QuantumCiruit to append to \n",
    "        oracles: a list of oracles generated from 'to_oracle()' function \n",
    "        diffuser: a diffuser from 'diffuser()' function \n",
    "        steps: no. of grover iterates\"\"\"\n",
    "    for step in range(steps):\n",
    "        for oracle in oracles:\n",
    "            qc.append(oracle, list(range(qc.num_qubits)) )\n",
    "        qc.append(diffuser, list([q for q in qreg_u])+ list(ancilla) )\n",
    "        # qc.barrier()\n",
    "    return qc\n",
    "\n",
    "## modified sub-routine for grover ~\n",
    "## Based on the 'grover_iterate()' function defined earlier\n",
    "def grover(patterns, grover_steps):\n",
    "    \n",
    "    dim = len(patterns[0])\n",
    "    \n",
    "    # create oracles ~\\\n",
    "    oracles = []\n",
    "    for pattern in patterns : oracles.append( to_oracle(pattern)) \n",
    "    \n",
    "    # create diffuser ~\\\n",
    "    diff = diffuser(dim)\n",
    "\n",
    "    # create circuit ~\\\n",
    "    qreg = QuantumRegister(dim, name= 'init')\n",
    "    ancilla = AncillaRegister(1, name='ancilla')\n",
    "    qc = QuantumCircuit(qreg, ancilla, name='grover'+'^'+str(grover_steps))\n",
    "    qc = grover_iterate(qc, oracles, diff, qreg, ancilla,grover_steps)\n",
    "  \n",
    "    return qc"
   ]
  },
  {
   "cell_type": "markdown",
   "metadata": {},
   "source": [
    "##### Helper Functions"
   ]
  },
  {
   "cell_type": "code",
   "execution_count": 6,
   "metadata": {},
   "outputs": [],
   "source": [
    "def s_psi0(p):\n",
    "    \"\"\" Prepare a QuantumCircuit that intiates a state required\n",
    "        input:\n",
    "            p= amplitude \n",
    "        output:\n",
    "            s_psi0 gate                                            \"\"\"\n",
    " \n",
    "    qc = QuantumCircuit(1, name= \" S_psi0 \")\n",
    "    theta = 2*np.arcsin(np.sqrt(p))\n",
    "    qc.ry(theta, 0)\n",
    "\n",
    "    return qc\n",
    "\n",
    "def Q(p, power):\n",
    "    \"\"\" Prepare an Gate to implement 'Q^power' operator\n",
    "        input:\n",
    "            p= amplitude\n",
    "            power= no.of times 'Q' is imposed\n",
    "        output:\n",
    "            Q gate\"\"\"\n",
    "    theta = 2*np.arcsin(np.sqrt(p))\n",
    "    qc = QuantumCircuit(1, name= ' Q'+ '^'+ str(power) )\n",
    "    qc.ry(2*theta*power, 0)\n",
    "\n",
    "    return qc\n",
    "\n",
    "def good_val_measure_single_qubit(p, m, Nshots=1024):\n",
    "    # p = 0.23\n",
    "    qreg = QuantumRegister(1, name='qreg')\n",
    "    creg = ClassicalRegister(1, name= 'creg')\n",
    "    qc = QuantumCircuit(qreg, creg)\n",
    "\n",
    "    qc.compose(s_psi0(p).to_gate(), inplace= True)\n",
    "    qc.compose(Q(p, m).to_gate(), inplace= True)\n",
    "\n",
    "    qc.measure(qreg, creg)\n",
    "    \n",
    "    counts =  execute(qc, backend= qsm, shots= Nshots).result().get_counts()\n",
    "    if len(counts) == 1:\n",
    "        if list(counts.keys()) == ['1']: counts['0'] = 0\n",
    "        else : counts['1'] = 0\n",
    "    \n",
    "    return counts['1']/Nshots\n",
    "\n",
    "def good_val_measure_multiple_qubit(good_states, m , Nshots= 1024):\n",
    "    pass\n",
    "    "
   ]
  },
  {
   "cell_type": "markdown",
   "metadata": {},
   "source": [
    "#### Iterative Quantum Amplitude Estimation "
   ]
  },
  {
   "cell_type": "markdown",
   "metadata": {},
   "source": [
    "Here we implement Iterative Amplitude Estimation for single and multiple qubits as described in the paper https://arxiv.org/abs/1912.05559. "
   ]
  },
  {
   "cell_type": "code",
   "execution_count": 7,
   "metadata": {},
   "outputs": [],
   "source": [
    "## finding next k sub routine\n",
    "def find_next_k(k_i, theta_l, theta_u, up: bool, r= 2 ):\n",
    "    K_i= 4*k_i + 2\n",
    "    theta_max = K_i*theta_l\n",
    "    theta_min = K_i*theta_u\n",
    "    K_max = int(0.5/(theta_u - theta_l))\n",
    "    K = K_max - np.mod((K_max - 2), 4)\n",
    "    # print('K :', K, 'K_i :', K_i) ## set probe\n",
    "\n",
    "    ## searching for higher k vals\n",
    "    while K >= r*K_i :\n",
    "        q= K/K_i\n",
    "        # print('K :', K, 'K_i :', K_i) ## set probe\n",
    "        # print('K/K_i :', q) ## set probe\n",
    "\n",
    "        theta_min = K * theta_l - int(K * theta_l)\n",
    "        theta_max = K * theta_u - int(K * theta_u)\n",
    "\n",
    "        if theta_min <= theta_max <= 0.5 and theta_min <= 0.5 :\n",
    "            up_u = True\n",
    "            return int((K - 2) / 4), up_u\n",
    "        \n",
    "        if theta_max >= 0.5 and theta_max >= theta_min >= 0.5 :\n",
    "            up_u = False\n",
    "            return int((K - 2) / 4), up_u\n",
    "    \n",
    "        K = K-4\n",
    "    \n",
    "    return (k_i, up) "
   ]
  },
  {
   "cell_type": "markdown",
   "metadata": {},
   "source": [
    "##### Single Qubit results"
   ]
  },
  {
   "cell_type": "code",
   "execution_count": 8,
   "metadata": {},
   "outputs": [],
   "source": [
    "################\n",
    "# p = 0.75\n",
    "# eps= 10**(-2)\n",
    "# alpha = 0.5\n",
    "# Nshots= 100\n",
    "################\n",
    "\n",
    "def IQAE_single_qubit(p, eps= 10**(-2), alpha = 0.5, Nshots= 100 ):\n",
    "    ################\n",
    "    i = 0 \n",
    "    k = [0]\n",
    "    K = [0]\n",
    "    up = [True]\n",
    "    theta_low, theta_up = 0 , 1/4\n",
    "    theta_lows, theta_ups = [], []\n",
    "\n",
    "    T = math.ceil( np.log2(pi/(8*eps))   )\n",
    "    L_max = np.arcsin( ((2/Nshots) * np.log(2*T/alpha))**(1//4)  )\n",
    "\n",
    "    while (theta_up - theta_low) > eps/pi :\n",
    "        i = i+1\n",
    "        k_u, up_u = find_next_k(k[i-1], theta_low, theta_up, up[i-1] )\n",
    "        K_u = 4*k_u + 2 \n",
    "\n",
    "        ## set probe\n",
    "        # print(\"k: \", k_u, 'up: ', up_u)\n",
    "\n",
    "        k.append(k_u)\n",
    "        up.append(up_u)\n",
    "        K.append(K_u)\n",
    "\n",
    "        if K_u > math.ceil(L_max/eps):\n",
    "            N = math.cel(Nshots*L_max/eps/K_u/10)\n",
    "        else :\n",
    "            N = Nshots\n",
    "\n",
    "        ## get p(|1>) from qiskit\n",
    "        a_u = good_val_measure_single_qubit(p, k_u, Nshots= N)\n",
    "        # print('a_u :', a_u) ## set probe\n",
    "\n",
    "        if k_u == k[i-1]:\n",
    "            #### comibne all previous results\n",
    "            pass\n",
    "        \n",
    "        ## calculate bound\n",
    "        eps_u = np.sqrt(  1/(2*N) * np.log((2*T/alpha))     )\n",
    "        a_u_max = min(1, a_u + eps_u)\n",
    "        a_u_min = max(0, a_u - eps_u)\n",
    "        # print('a_u_max: ', a_u_max, ' a_u_min: ', a_u_min ) ## set probe\n",
    "\n",
    "        if up_u :\n",
    "            theta = [ np.arccos(1- 2*a_u_max)/2/pi , np.arccos(1- 2*a_u_min)/2/pi     ]\n",
    "            theta_u_min = min(theta)\n",
    "            theta_u_max = max(theta)\n",
    "            \n",
    "        else :\n",
    "            theta = [1 -  np.arccos(1- 2*a_u_max)/2/pi ,1 -  np.arccos(1- 2*a_u_min)/2/pi     ]\n",
    "            theta_u_min = min(theta)\n",
    "            theta_u_max = max(theta)\n",
    "\n",
    "        # print('theta_u_max :', theta_u_max, 'theta_u_min :', theta_u_min ) ## set probe \n",
    "\n",
    "        ## calculate confidence interval\n",
    "        theta_low = ( int(K_u*theta_low ) + theta_u_min )/K_u\n",
    "        theta_up = ( int(K_u*theta_up ) + theta_u_max )/K_u\n",
    "        a_low = (np.sin(2 * pi * theta_low))**2\n",
    "        a_up = (np.sin(2 * pi * theta_up))**2\n",
    "\n",
    "\n",
    "        ## set probe \n",
    "        # print('theta_low: ', theta_low, ' theta_up: ', theta_up )\n",
    "        print('a_low: ', a_low, ' a_up: ', a_up )\n",
    "\n",
    "        theta_lows.append(theta_low)\n",
    "        theta_ups.append(theta_up)\n",
    "\n",
    "    return (a_low + a_up)*0.5, theta_lows, theta_ups, up  \n",
    "\n",
    "\n"
   ]
  },
  {
   "cell_type": "code",
   "execution_count": 9,
   "metadata": {},
   "outputs": [
    {
     "name": "stdout",
     "output_type": "stream",
     "text": [
      "a_low:  0.326143380095415  a_up:  0.5938566199045849\n",
      "a_low:  0.440949630948109  a_up:  0.5314514686712766\n",
      "a_low:  0.49739366211098035  a_up:  0.5187149280370924\n",
      "a_low:  0.5054514431182061  a_up:  0.5160459566560001\n",
      "a_low:  0.5093085354302438  a_up:  0.5112042871708666\n"
     ]
    }
   ],
   "source": [
    "p = 0.510\n",
    "result, theta_lows, theta_ups, hemisphere = IQAE_single_qubit(p, eps= 10**(-3))"
   ]
  },
  {
   "cell_type": "code",
   "execution_count": 10,
   "metadata": {},
   "outputs": [
    {
     "data": {
      "text/plain": [
       "5"
      ]
     },
     "execution_count": 10,
     "metadata": {},
     "output_type": "execute_result"
    }
   ],
   "source": [
    "len(theta_lows)"
   ]
  },
  {
   "cell_type": "code",
   "execution_count": 11,
   "metadata": {},
   "outputs": [
    {
     "data": {
      "text/plain": [
       "array([-0.04328732, -0.01442911, -0.00339408, -0.00168659, -0.00030178])"
      ]
     },
     "execution_count": 11,
     "metadata": {},
     "output_type": "execute_result"
    }
   ],
   "source": [
    "np.array(theta_lows) - np.array(theta_ups)"
   ]
  },
  {
   "cell_type": "code",
   "execution_count": 12,
   "metadata": {},
   "outputs": [
    {
     "data": {
      "image/png": "[encoded data removed]",
      "text/plain": [
       "<Figure size 432x288 with 1 Axes>"
      ]
     },
     "metadata": {
      "needs_background": "light"
     },
     "output_type": "display_data"
    }
   ],
   "source": [
    "index = 1\n",
    "rads = np.linspace(theta_lows[index], theta_ups[index], 100)\n",
    "for rad in rads:\n",
    "    plt.polar(2*pi*rad, 1, 'r')"
   ]
  },
  {
   "cell_type": "markdown",
   "metadata": {},
   "source": [
    "### Scratch"
   ]
  }
 ],
 "metadata": {
  "kernelspec": {
   "display_name": "Python 3.10.4 64-bit",
   "language": "python",
   "name": "python3"
  },
  "language_info": {
   "codemirror_mode": {
    "name": "ipython",
    "version": 3
   },
   "file_extension": ".py",
   "mimetype": "text/x-python",
   "name": "python",
   "nbconvert_exporter": "python",
   "pygments_lexer": "ipython3",
   "version": "3.10.4"
  },
  "orig_nbformat": 4,
  "vscode": {
   "interpreter": {
    "hash": "916dbcbb3f70747c44a77c7bcd40155683ae19c65e1c03b4aa3499c5328201f1"
   }
  }
 },
 "nbformat": 4,
 "nbformat_minor": 2
}
